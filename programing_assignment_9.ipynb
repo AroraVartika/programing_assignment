{
  "nbformat": 4,
  "nbformat_minor": 0,
  "metadata": {
    "colab": {
      "provenance": []
    },
    "kernelspec": {
      "name": "python3",
      "display_name": "Python 3"
    },
    "language_info": {
      "name": "python"
    }
  },
  "cells": [
    {
      "cell_type": "markdown",
      "source": [
        "1. Write a Python program to check if the given number is a Disarium Number?"
      ],
      "metadata": {
        "id": "HuGchio1yeF5"
      }
    },
    {
      "cell_type": "code",
      "source": [
        "def calculateLength(n):\n",
        "    length = 0;\n",
        "    while(n != 0):\n",
        "        length = length + 1;\n",
        "        n = n//10;\n",
        "    return length;\n",
        "\n",
        "num = 175;\n",
        "rem = sum = 0;\n",
        "len = calculateLength(num);\n",
        "\n",
        "n = num;\n",
        "\n",
        "while(num > 0):\n",
        "    rem = num%10;\n",
        "    sum = sum + int(rem**len);\n",
        "    num = num//10;\n",
        "    len = len - 1;\n",
        "\n",
        "if(sum == n):\n",
        "    print(str(n) + \" is a disarium number\");\n",
        "else:\n",
        "    print(str(n) + \" is not a disarium number\");"
      ],
      "metadata": {
        "colab": {
          "base_uri": "https://localhost:8080/"
        },
        "id": "j1VzSg3VyebE",
        "outputId": "454132aa-6337-47b6-95bf-c2ba85e5113c"
      },
      "execution_count": null,
      "outputs": [
        {
          "output_type": "stream",
          "name": "stdout",
          "text": [
            "175 is a disarium number\n"
          ]
        }
      ]
    },
    {
      "cell_type": "markdown",
      "source": [
        "2. Write a Python program to print all disarium numbers between 1 to 100?"
      ],
      "metadata": {
        "id": "LWo01ukYyepw"
      }
    },
    {
      "cell_type": "code",
      "source": [
        "def calculateLength(n):\n",
        "    length = 0;\n",
        "    while(n != 0):\n",
        "        length = length + 1;\n",
        "        n = n//10;\n",
        "    return length;\n",
        "\n",
        "def sumOfDigits(num):\n",
        "    rem = sum = 0;\n",
        "    len = calculateLength(num);\n",
        "\n",
        "    while(num > 0):\n",
        "        rem = num%10;\n",
        "        sum = sum + (rem**len);\n",
        "        num = num//10;\n",
        "        len = len - 1;\n",
        "    return sum;\n",
        "\n",
        "result = 0;\n",
        "\n",
        "print(\"Disarium numbers between 1 and 100 are\");\n",
        "for i in range(1, 101):\n",
        "    result = sumOfDigits(i);\n",
        "\n",
        "    if(result == i):\n",
        "        print(i),"
      ],
      "metadata": {
        "colab": {
          "base_uri": "https://localhost:8080/"
        },
        "id": "zRzhUeMJye6p",
        "outputId": "1d633697-9d22-4747-a693-085b15e0d497"
      },
      "execution_count": null,
      "outputs": [
        {
          "output_type": "stream",
          "name": "stdout",
          "text": [
            "Disarium numbers between 1 and 100 are\n",
            "1\n",
            "2\n",
            "3\n",
            "4\n",
            "5\n",
            "6\n",
            "7\n",
            "8\n",
            "9\n",
            "89\n"
          ]
        }
      ]
    },
    {
      "cell_type": "markdown",
      "source": [
        "3. Write a Python program to check if the given number is Happy Number?"
      ],
      "metadata": {
        "id": "sOzlNxv2yfLQ"
      }
    },
    {
      "cell_type": "code",
      "source": [
        "def isHappyNumber(num):\n",
        "    rem = sum = 0;\n",
        "\n",
        "    while(num > 0):\n",
        "        rem = num%10;\n",
        "        sum = sum + (rem*rem);\n",
        "        num = num//10;\n",
        "    return sum;\n",
        "\n",
        "num = 82;\n",
        "result = num;\n",
        "\n",
        "while(result != 1 and result != 4):\n",
        "    result = isHappyNumber(result);\n",
        "\n",
        "if(result == 1):\n",
        "    print(str(num) + \" is a happy number\");\n",
        "\n",
        "elif(result == 4):\n",
        "    print(str(num) + \" is not a happy number\");"
      ],
      "metadata": {
        "colab": {
          "base_uri": "https://localhost:8080/"
        },
        "id": "KEeUHHS1yfdZ",
        "outputId": "0ab8c707-755e-4263-e82d-2acf9fd759ac"
      },
      "execution_count": null,
      "outputs": [
        {
          "output_type": "stream",
          "name": "stdout",
          "text": [
            "82 is a happy number\n"
          ]
        }
      ]
    },
    {
      "cell_type": "markdown",
      "source": [
        "4. Write a Python program to print all happy numbers between 1 and 100?"
      ],
      "metadata": {
        "id": "dcf4F3tFyfur"
      }
    },
    {
      "cell_type": "code",
      "source": [
        "def isHappyNumber(num):\n",
        "    rem = sum = 0;\n",
        "\n",
        "    while(num > 0):\n",
        "        rem = num%10;\n",
        "        sum = sum + (rem*rem);\n",
        "        num = num//10;\n",
        "    return sum;\n",
        "\n",
        "print(\"List of happy numbers between 1 and 100: \");\n",
        "for i in range(1, 101):\n",
        "    result = i;\n",
        "\n",
        "    while(result != 1 and result != 4):\n",
        "        result = isHappyNumber(result);\n",
        "\n",
        "    if(result == 1):\n",
        "        print(i),\n",
        "        print(\" \"),"
      ],
      "metadata": {
        "colab": {
          "base_uri": "https://localhost:8080/"
        },
        "id": "XeV2LHchyf_f",
        "outputId": "eec13f54-b420-46a8-e148-9218dd7016d4"
      },
      "execution_count": null,
      "outputs": [
        {
          "output_type": "stream",
          "name": "stdout",
          "text": [
            "List of happy numbers between 1 and 100: \n",
            "1\n",
            " \n",
            "7\n",
            " \n",
            "10\n",
            " \n",
            "13\n",
            " \n",
            "19\n",
            " \n",
            "23\n",
            " \n",
            "28\n",
            " \n",
            "31\n",
            " \n",
            "32\n",
            " \n",
            "44\n",
            " \n",
            "49\n",
            " \n",
            "68\n",
            " \n",
            "70\n",
            " \n",
            "79\n",
            " \n",
            "82\n",
            " \n",
            "86\n",
            " \n",
            "91\n",
            " \n",
            "94\n",
            " \n",
            "97\n",
            " \n",
            "100\n",
            " \n"
          ]
        }
      ]
    },
    {
      "cell_type": "markdown",
      "source": [
        "5. Write a Python program to determine whether the given number is a Harshad Number?"
      ],
      "metadata": {
        "id": "-rIkdBJf2Ods"
      }
    },
    {
      "cell_type": "code",
      "source": [
        "num = 156;\n",
        "rem = sum = 0;\n",
        "\n",
        "n = num;\n",
        "\n",
        "while(num > 0):\n",
        "    rem = num%10;\n",
        "    sum = sum + rem;\n",
        "    num = num//10;\n",
        "\n",
        "if(n%sum == 0):\n",
        "    print(str(n) + \" is a harshad number\");\n",
        "else:\n",
        "    print(str(n) + \" is not a harshad number\");"
      ],
      "metadata": {
        "colab": {
          "base_uri": "https://localhost:8080/"
        },
        "id": "EcZKpWNR2O9t",
        "outputId": "61d704a9-d32a-4312-bfd8-ca25a526f7ec"
      },
      "execution_count": null,
      "outputs": [
        {
          "output_type": "stream",
          "name": "stdout",
          "text": [
            "156 is a harshad number\n"
          ]
        }
      ]
    },
    {
      "cell_type": "markdown",
      "source": [
        "6. Write a Python program to print all pronic numbers between 1 and 100?"
      ],
      "metadata": {
        "id": "-kPQuNJl2PSO"
      }
    },
    {
      "cell_type": "code",
      "source": [
        "def isPronicNumber(num):\n",
        "    flag = False;\n",
        "\n",
        "    for j in range(1, num+1):\n",
        "        if((j*(j+1)) == num):\n",
        "            flag = True;\n",
        "            break;\n",
        "    return flag;\n",
        "\n",
        "print(\"Pronic numbers between 1 and 100: \");\n",
        "for i in range(1, 101):\n",
        "    if(isPronicNumber(i)):\n",
        "        print(i),\n",
        "        print(\" \"),"
      ],
      "metadata": {
        "colab": {
          "base_uri": "https://localhost:8080/"
        },
        "id": "GV9r26P72PnG",
        "outputId": "fd61337c-c132-48ae-ff9d-11e422c61e99"
      },
      "execution_count": null,
      "outputs": [
        {
          "output_type": "stream",
          "name": "stdout",
          "text": [
            "Pronic numbers between 1 and 100: \n",
            "2\n",
            " \n",
            "6\n",
            " \n",
            "12\n",
            " \n",
            "20\n",
            " \n",
            "30\n",
            " \n",
            "42\n",
            " \n",
            "56\n",
            " \n",
            "72\n",
            " \n",
            "90\n",
            " \n"
          ]
        }
      ]
    },
    {
      "cell_type": "code",
      "source": [],
      "metadata": {
        "id": "i58qbV3N4Cus"
      },
      "execution_count": null,
      "outputs": []
    }
  ]
}