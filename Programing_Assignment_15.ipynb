{
  "nbformat": 4,
  "nbformat_minor": 0,
  "metadata": {
    "colab": {
      "provenance": []
    },
    "kernelspec": {
      "name": "python3",
      "display_name": "Python 3"
    },
    "language_info": {
      "name": "python"
    }
  },
  "cells": [
    {
      "cell_type": "markdown",
      "source": [
        "Question 1:\n",
        "Please write a program using generator to print the numbers which can be divisible by 5 and\n",
        "7 between 0 and n in comma separated form while n is input by console.\n",
        "Example:\n",
        "If the following n is given as input to the program:\n",
        "100\n",
        "Then, the output of the program should be:\n",
        "0,35,70"
      ],
      "metadata": {
        "id": "bmiqZNwMDPiT"
      }
    },
    {
      "cell_type": "code",
      "source": [
        "def NumGen(n):\n",
        "\n",
        "    for j in range(0, n+1):\n",
        "\n",
        "        if j % 5 == 0 and j % 7 == 0:\n",
        "            yield j\n",
        "\n",
        "\n",
        "if __name__ == \"__main__\":\n",
        "\n",
        "    N = 100\n",
        "\n",
        "    for j in NumGen(N):\n",
        "        print(j, end = \" \")"
      ],
      "metadata": {
        "colab": {
          "base_uri": "https://localhost:8080/"
        },
        "id": "8F045I5UDP3A",
        "outputId": "b3ae6d94-d489-4ed7-b2e3-b1597f3d5b66"
      },
      "execution_count": null,
      "outputs": [
        {
          "output_type": "stream",
          "name": "stdout",
          "text": [
            "0 35 70 "
          ]
        }
      ]
    },
    {
      "cell_type": "markdown",
      "source": [
        "2 Please write a program using generator to print the even numbers between 0 and n in comma\n",
        "separated form while n is input by console.\n",
        "Example:\n",
        "If the following n is given as input to the program:\n",
        "10\n",
        "Then, the output of the program should be:\n",
        "0,2,4,6,8,10"
      ],
      "metadata": {
        "id": "WYt8WBfcDQOt"
      }
    },
    {
      "cell_type": "code",
      "source": [
        "def even(num1,num2):\n",
        "    if num1>num2:\n",
        "        return\n",
        "    print(num1,end=\" \")\n",
        "    return even(num1+2,num2)\n",
        "num1=int(input('Enter the starting point: '))\n",
        "num2=int(input('Enter the Ending point: '))\n",
        "even(num1,num2)"
      ],
      "metadata": {
        "colab": {
          "base_uri": "https://localhost:8080/"
        },
        "id": "ar2xlzOoDQlj",
        "outputId": "ae34b908-950a-449e-f55e-608a8b3f51ea"
      },
      "execution_count": null,
      "outputs": [
        {
          "output_type": "stream",
          "name": "stdout",
          "text": [
            "Enter the starting point: 0\n",
            "Enter the Ending point: 10\n",
            "0 2 4 6 8 10 "
          ]
        }
      ]
    },
    {
      "cell_type": "markdown",
      "source": [
        "Question 3:\n",
        "The Fibonacci Sequence is computed based on the following formula:\n",
        "f(n)=0 if n=0\n",
        "f(n)=1 if n=1\n",
        "f(n)=f(n-1)+f(n-2) if n&gt;1\n",
        "Please write a program using list comprehension to print the Fibonacci Sequence in comma\n",
        "separated form with a given n input by console.\n",
        "Example:\n",
        "If the following n is given as input to the program: 7 Then, the output of the program should be:\n",
        "0,1,1,2,3,5,8,13"
      ],
      "metadata": {
        "id": "8euYQUv7DQ6B"
      }
    },
    {
      "cell_type": "code",
      "source": [
        "def printTrib(n) :\n",
        "\n",
        "\tdp = [0] * n\n",
        "\tdp[0] = 0; dp[1] = 1;\n",
        "\tdp[2] = 1;\n",
        "\n",
        "\tfor i in range(2,n) :\n",
        "\t\tdp[i] = dp[i - 1] + dp[i - 2];\n",
        "\n",
        "\tfor i in range(0,n) :\n",
        "\t\tprint(dp[i] , \" \", end=\"\")\n",
        "\n",
        "\n",
        "n = 7\n",
        "printTrib(n)"
      ],
      "metadata": {
        "colab": {
          "base_uri": "https://localhost:8080/"
        },
        "id": "MEliSj_RDROr",
        "outputId": "49cc90b3-fbce-4c0a-b7f2-9c35192e3846"
      },
      "execution_count": null,
      "outputs": [
        {
          "output_type": "stream",
          "name": "stdout",
          "text": [
            "0  1  1  2  3  5  8  "
          ]
        }
      ]
    },
    {
      "cell_type": "markdown",
      "source": [
        "4. Assuming that we have some email addresses in the &quot;username@companyname.com&quot; format,\n",
        "please write program to print the user name of a given email address. Both user names and\n",
        "company names are composed of letters only.\n",
        "Example:\n",
        "If the following email address is given as input to the program:\n",
        "john@google.com\n",
        "Then, the output of the program should be:\n",
        "john"
      ],
      "metadata": {
        "id": "dy2FP2YDDRjx"
      }
    },
    {
      "cell_type": "code",
      "source": [
        "import re\n",
        "\n",
        "emailAddress = input(\"Enter email addresses: \")\n",
        "\n",
        "pat2 = \"(\\w+)@((\\w+\\.)+(com))\"\n",
        "\n",
        "r2 = re.match(pat2,emailAddress)\n",
        "\n",
        "print(r2.group(1))"
      ],
      "metadata": {
        "colab": {
          "base_uri": "https://localhost:8080/"
        },
        "id": "zoEUrpM7DR-g",
        "outputId": "7d4a5da4-3413-4eca-dee3-9fec8182ef26"
      },
      "execution_count": null,
      "outputs": [
        {
          "output_type": "stream",
          "name": "stdout",
          "text": [
            "Enter email addresses: john@google.com\n",
            "john\n"
          ]
        }
      ]
    },
    {
      "cell_type": "markdown",
      "source": [
        "Question 5:\n",
        "Define a class named Shape and its subclass Square. The Square class has an init function\n",
        "which takes a length as argument. Both classes have a area function which can print the area\n",
        "of the shape where Shape&#39;s area is 0 by default."
      ],
      "metadata": {
        "id": "Rp1HzwEtJ9R5"
      }
    },
    {
      "cell_type": "code",
      "source": [],
      "metadata": {
        "id": "lQILF_uALHa0"
      },
      "execution_count": null,
      "outputs": []
    }
  ]
}