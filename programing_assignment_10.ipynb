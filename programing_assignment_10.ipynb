{
  "nbformat": 4,
  "nbformat_minor": 0,
  "metadata": {
    "colab": {
      "provenance": []
    },
    "kernelspec": {
      "name": "python3",
      "display_name": "Python 3"
    },
    "language_info": {
      "name": "python"
    }
  },
  "cells": [
    {
      "cell_type": "markdown",
      "source": [
        "1.\tWrite a Python program to find sum of elements in list?"
      ],
      "metadata": {
        "id": "QaF6oDxy1n_j"
      }
    },
    {
      "cell_type": "code",
      "source": [
        "total = 0\n",
        "ele = 0\n",
        "\n",
        "list1 = [11, 5, 17, 18, 23]\n",
        "\n",
        "while(ele < len(list1)):\n",
        "\ttotal = total + list1[ele]\n",
        "\tele += 1\n",
        "\n",
        "print(\"Sum of all elements in given list: \", total)\n"
      ],
      "metadata": {
        "id": "2eZ3caMq1qB0",
        "colab": {
          "base_uri": "https://localhost:8080/"
        },
        "outputId": "7b34119e-7967-423a-b361-62944ac501a3"
      },
      "execution_count": null,
      "outputs": [
        {
          "output_type": "stream",
          "name": "stdout",
          "text": [
            "Sum of all elements in given list:  74\n"
          ]
        }
      ]
    },
    {
      "cell_type": "markdown",
      "source": [
        "2.\tWrite a Python program to  Multiply all numbers in the list?"
      ],
      "metadata": {
        "id": "PwqjUgtN1qr5"
      }
    },
    {
      "cell_type": "code",
      "source": [
        "from functools import reduce\n",
        "list1 = [1, 2, 3]\n",
        "list2 = [3, 2, 4]\n",
        "\n",
        "\n",
        "result1 = reduce((lambda x, y: x * y), list1)\n",
        "result2 = reduce((lambda x, y: x * y), list2)\n",
        "print(result1)\n",
        "print(result2)\n"
      ],
      "metadata": {
        "colab": {
          "base_uri": "https://localhost:8080/"
        },
        "id": "Z1lVSsIbMt37",
        "outputId": "59554c35-025d-434b-8167-2fae8138fb77"
      },
      "execution_count": null,
      "outputs": [
        {
          "output_type": "stream",
          "name": "stdout",
          "text": [
            "6\n",
            "24\n"
          ]
        }
      ]
    },
    {
      "cell_type": "markdown",
      "source": [
        "3.\tWrite a Python program to find smallest number in a list?"
      ],
      "metadata": {
        "id": "EJLl8IJO1ro2"
      }
    },
    {
      "cell_type": "code",
      "source": [
        "list1 = []\n",
        "total_ele = int (input (\" How many elements you want to enter? \"))\n",
        "for i in range (total_ele):\n",
        "  n =int (input (\"Enter a number:\"))\n",
        "  list1.append(n)\n",
        "print (list1)\n",
        "min = list1[0]\n",
        "\n",
        "for i in range (len (list1)):\n",
        "  if list1[i] < min:\n",
        "    min = list1[i]\n",
        "print (\"The smallest element is \", min)"
      ],
      "metadata": {
        "id": "020rhkJu1sE0",
        "colab": {
          "base_uri": "https://localhost:8080/"
        },
        "outputId": "119f9aec-1f06-480a-c969-4f180d357254"
      },
      "execution_count": null,
      "outputs": [
        {
          "output_type": "stream",
          "name": "stdout",
          "text": [
            " How many elements you want to enter? 4\n",
            "Enter a number:3\n",
            "Enter a number:4\n",
            "Enter a number:1\n",
            "Enter a number:-1\n",
            "[3, 4, 1, -1]\n",
            "The smallest element is  -1\n"
          ]
        }
      ]
    },
    {
      "cell_type": "markdown",
      "source": [
        "4.\tWrite a Python program to find largest number in a list?"
      ],
      "metadata": {
        "id": "CeJwTOMD1sfU"
      }
    },
    {
      "cell_type": "code",
      "source": [
        "list1 = []\n",
        "total_ele = int (input (\" How many elements you want to enter? \"))\n",
        "for i in range (total_ele):\n",
        "  n =int (input (\"Enter a number:\"))\n",
        "  list1.append(n)\n",
        "print (list1)\n",
        "max = list1[0]\n",
        "\n",
        "for i in range (len (list1)):\n",
        "  if list1[i] > max:\n",
        "    max = list1[i]\n",
        "print (\"The largest element is \", max)"
      ],
      "metadata": {
        "id": "tzOlF8d51s1E",
        "colab": {
          "base_uri": "https://localhost:8080/"
        },
        "outputId": "f8df88c3-63d2-42e4-8f03-78855a8a4c0a"
      },
      "execution_count": null,
      "outputs": [
        {
          "output_type": "stream",
          "name": "stdout",
          "text": [
            " How many elements you want to enter? 5\n",
            "Enter a number:2\n",
            "Enter a number:-4\n",
            "Enter a number:9\n",
            "Enter a number:-99\n",
            "Enter a number:1000\n",
            "[2, -4, 9, -99, 1000]\n",
            "The largest element is  1000\n"
          ]
        }
      ]
    },
    {
      "cell_type": "markdown",
      "source": [
        "5.\tWrite a Python program to find second largest number in a list?"
      ],
      "metadata": {
        "id": "BJmaG8Ii1tKW"
      }
    },
    {
      "cell_type": "code",
      "source": [
        "list1 = [10, 20, 30, 4, 450, 245, 945, 999, 99]\n",
        "list1.sort()\n",
        "\n",
        "print(\"Second largest element is:\", list1[-2])\n"
      ],
      "metadata": {
        "colab": {
          "base_uri": "https://localhost:8080/"
        },
        "id": "sd13KTE8adZL",
        "outputId": "c9ab0281-84a6-45f7-e775-456d1e7466b6"
      },
      "execution_count": null,
      "outputs": [
        {
          "output_type": "stream",
          "name": "stdout",
          "text": [
            "Second largest element is: 945\n"
          ]
        }
      ]
    },
    {
      "cell_type": "markdown",
      "source": [
        "6.\tWrite a Python program to find N largest elements from a list?"
      ],
      "metadata": {
        "id": "bVj6e-F81uWj"
      }
    },
    {
      "cell_type": "code",
      "source": [
        "def Nmaxelements(list1, N):\n",
        "\tfinal_list = []\n",
        "\n",
        "\tfor i in range(0, N):\n",
        "\t\tmax1 = 0\n",
        "\n",
        "\t\tfor j in range(len(list1)):\n",
        "\t\t\tif list1[j] > max1:\n",
        "\t\t\t\tmax1 = list1[j]\n",
        "\n",
        "\t\tlist1.remove(max1)\n",
        "\t\tfinal_list.append(max1)\n",
        "\n",
        "\tprint(final_list)\n",
        "\n",
        "list1 = [2, 6, 41, 85, 0, 3, 7, 6, 10]\n",
        "N = 2\n",
        "\n",
        "Nmaxelements(list1, N)\n"
      ],
      "metadata": {
        "id": "nbE4uYXm1uzT",
        "colab": {
          "base_uri": "https://localhost:8080/"
        },
        "outputId": "364d4757-9045-4057-be81-82666a280c21"
      },
      "execution_count": null,
      "outputs": [
        {
          "output_type": "stream",
          "name": "stdout",
          "text": [
            "[85, 41]\n"
          ]
        }
      ]
    },
    {
      "cell_type": "markdown",
      "source": [
        "7.\tWrite a Python program to print even numbers in a list?"
      ],
      "metadata": {
        "id": "xVwJSZDM2gwa"
      }
    },
    {
      "cell_type": "code",
      "source": [
        "list1 = []\n",
        "total_ele = int (input (\" How many elements you want to enter? \"))\n",
        "for i in range (total_ele):\n",
        "  n =int (input (\"Enter a number:\"))\n",
        "  list1.append(n)\n",
        "print (list1)\n",
        "m = list1[0]\n",
        "\n",
        "for i in range (len (list1)):\n",
        "  if list1[i]%2 == 0:\n",
        "    print (list1[i] )"
      ],
      "metadata": {
        "id": "ef0OPB0S2hc8",
        "colab": {
          "base_uri": "https://localhost:8080/"
        },
        "outputId": "96259232-f808-41a2-9d1d-02737abba795"
      },
      "execution_count": null,
      "outputs": [
        {
          "output_type": "stream",
          "name": "stdout",
          "text": [
            " How many elements you want to enter? 5\n",
            "Enter a number:2\n",
            "Enter a number:3\n",
            "Enter a number:4\n",
            "Enter a number:5\n",
            "Enter a number:6\n",
            "[2, 3, 4, 5, 6]\n",
            "2\n",
            "4\n",
            "6\n"
          ]
        }
      ]
    },
    {
      "cell_type": "markdown",
      "source": [
        "8.\tWrite a Python program to print odd numbers in a List?"
      ],
      "metadata": {
        "id": "9yVQ4JoN2hz9"
      }
    },
    {
      "cell_type": "code",
      "source": [
        "list1 = []\n",
        "total_ele = int (input (\" How many elements you want to enter? \"))\n",
        "for i in range (total_ele):\n",
        "  n =int (input (\"Enter a number:\"))\n",
        "  list1.append(n)\n",
        "print (list1)\n",
        "m = list1[0]\n",
        "\n",
        "for i in range (len (list1)):\n",
        "  if list1[i]%2 != 0:\n",
        "    print (list1[i] )"
      ],
      "metadata": {
        "id": "DgBqrSNq2iHr",
        "colab": {
          "base_uri": "https://localhost:8080/"
        },
        "outputId": "bc9e7ca2-8362-468d-fd7d-e030bd5ae8ab"
      },
      "execution_count": null,
      "outputs": [
        {
          "output_type": "stream",
          "name": "stdout",
          "text": [
            " How many elements you want to enter? 5\n",
            "Enter a number:2\n",
            "Enter a number:3\n",
            "Enter a number:4\n",
            "Enter a number:5\n",
            "Enter a number:6\n",
            "[2, 3, 4, 5, 6]\n",
            "3\n",
            "5\n"
          ]
        }
      ]
    },
    {
      "cell_type": "markdown",
      "source": [
        "9.\tWrite a Python program to Remove empty List from List?"
      ],
      "metadata": {
        "id": "lgjjiFYI2ia3"
      }
    },
    {
      "cell_type": "code",
      "source": [
        "list = [5, 6, [], 3, [], [], 9]\n",
        "\n",
        "print(\"The original list is : \" + str(list))\n",
        "\n",
        "res = [ele for ele in list if ele != []]\n",
        "\n",
        "print(\"List after empty list removal : \" + str(res))\n"
      ],
      "metadata": {
        "id": "cfD_MU-z2iud",
        "colab": {
          "base_uri": "https://localhost:8080/"
        },
        "outputId": "d7b25a27-e079-4f9d-bc98-db44c3a8946b"
      },
      "execution_count": null,
      "outputs": [
        {
          "output_type": "stream",
          "name": "stdout",
          "text": [
            "The original list is : [5, 6, [], 3, [], [], 9]\n",
            "List after empty list removal : [5, 6, 3, 9]\n"
          ]
        }
      ]
    },
    {
      "cell_type": "markdown",
      "source": [
        "10.\tWrite a Python program to Cloning or Copying a list?"
      ],
      "metadata": {
        "id": "0XCTJc022jCN"
      }
    },
    {
      "cell_type": "code",
      "source": [
        "def Cloning(li1):\n",
        "\tli_copy = [i for i in li1]\n",
        "\treturn li_copy\n",
        "\n",
        "li1 = [4, 8, 2, 10, 15, 18]\n",
        "li2 = Cloning(li1)\n",
        "print(\"Original List:\", li1)\n",
        "print(\"After Cloning:\", li2)\n"
      ],
      "metadata": {
        "id": "Arhssgro2jV6",
        "colab": {
          "base_uri": "https://localhost:8080/"
        },
        "outputId": "87ebdb6f-64fc-4293-d17d-57cc928a9710"
      },
      "execution_count": null,
      "outputs": [
        {
          "output_type": "stream",
          "name": "stdout",
          "text": [
            "Original List: [4, 8, 2, 10, 15, 18]\n",
            "After Cloning: [4, 8, 2, 10, 15, 18]\n"
          ]
        }
      ]
    },
    {
      "cell_type": "markdown",
      "source": [
        "11.\tWrite a Python program to Count occurrences of an element in a list?"
      ],
      "metadata": {
        "id": "VH8rhTXN2jsM"
      }
    },
    {
      "cell_type": "code",
      "source": [
        "# Python code to count the number of occurrences\n",
        "def countX(lst, x):\n",
        "\treturn lst.count(x)\n",
        "\n",
        "lst = [80, 6, 8, 10, 8, 20, 10, 8, 8]\n",
        "x = 8\n",
        "print('{} has occurred {} times'.format(x,\n",
        "\t\t\t\t\t\t\t\t\t\tcountX(lst, x)))\n",
        "\n"
      ],
      "metadata": {
        "id": "1Ynzu6oM2j-P",
        "colab": {
          "base_uri": "https://localhost:8080/"
        },
        "outputId": "e9a744f6-d5a0-481d-d28b-de622e3ef109"
      },
      "execution_count": null,
      "outputs": [
        {
          "output_type": "stream",
          "name": "stdout",
          "text": [
            "8 has occurred 4 times\n"
          ]
        }
      ]
    },
    {
      "cell_type": "code",
      "source": [],
      "metadata": {
        "id": "fqmay310FpBt"
      },
      "execution_count": null,
      "outputs": []
    }
  ]
}