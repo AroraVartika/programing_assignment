{
  "nbformat": 4,
  "nbformat_minor": 0,
  "metadata": {
    "colab": {
      "provenance": []
    },
    "kernelspec": {
      "name": "python3",
      "display_name": "Python 3"
    },
    "language_info": {
      "name": "python"
    }
  },
  "cells": [
    {
      "cell_type": "markdown",
      "source": [
        "Question1\n",
        "Create a function that takes a list of strings and integers, and filters out the list so that it\n",
        "returns a list of integers only.\n",
        "Examples\n",
        "filter_list([1, 2, 3, &quot;a&quot;, &quot;b&quot;, 4]) ➞ [1, 2, 3, 4]\n",
        "filter_list([&quot;A&quot;, 0, &quot;Edabit&quot;, 1729, &quot;Python&quot;, &quot;1729&quot;]) ➞ [0, 1729]\n",
        "filter_list([&quot;Nothing&quot;, &quot;here&quot;]) ➞ []"
      ],
      "metadata": {
        "id": "UkJeBXoxKnxB"
      }
    },
    {
      "cell_type": "code",
      "source": [
        "l = [1,2,3,'a','b',4]\n",
        "\n",
        "def filter_list(l):\n",
        "    new_list = []\n",
        "    for x in l:\n",
        "        if type(x) == int:\n",
        "            new_list.append(x)\n",
        "    return new_list\n",
        "\n",
        "print(filter_list(l))"
      ],
      "metadata": {
        "colab": {
          "base_uri": "https://localhost:8080/"
        },
        "id": "dRIO57N0KoD6",
        "outputId": "ba09d26d-00ce-4859-c0a2-f73dd62e3d93"
      },
      "execution_count": null,
      "outputs": [
        {
          "output_type": "stream",
          "name": "stdout",
          "text": [
            "[1, 2, 3, 4]\n"
          ]
        }
      ]
    },
    {
      "cell_type": "markdown",
      "source": [
        "Question2\n",
        "Given a list of numbers, create a function which returns the list but with each element&#39;s\n",
        "index in the list added to itself. This means you add 0 to the number at index 0, add 1 to the\n",
        "number at index 1, etc...\n",
        "Examples\n",
        "add_indexes([0, 0, 0, 0, 0]) ➞ [0, 1, 2, 3, 4]\n",
        "add_indexes([1, 2, 3, 4, 5]) ➞ [1, 3, 5, 7, 9]\n",
        "add_indexes([5, 4, 3, 2, 1]) ➞ [5, 5, 5, 5, 5]"
      ],
      "metadata": {
        "id": "VALVhdqYKoVT"
      }
    },
    {
      "cell_type": "code",
      "source": [
        "def add_indexes(lst):\n",
        "    for x in range(len(lst)):\n",
        "        if lst[x] == lst[0]:\n",
        "            lst[x] += 0\n",
        "\n",
        "        elif lst[x] == lst[1]:\n",
        "            lst[x] += 1\n",
        "\n",
        "        elif lst[x] == lst[2]:\n",
        "            lst[x] += 2\n",
        "\n",
        "        elif lst[x] == lst[3]:\n",
        "            lst[x] += 3\n",
        "\n",
        "        elif lst[x] == lst[4]:\n",
        "            lst[x] += 4\n",
        "\n",
        "    return lst\n",
        "\n",
        "\n",
        "e = [5, 4, 3, 2, 1]\n",
        "print(add_indexes(e))"
      ],
      "metadata": {
        "colab": {
          "base_uri": "https://localhost:8080/"
        },
        "id": "x4Xux5pbKomz",
        "outputId": "4b5f5c8e-d3dc-4e28-e4aa-f23b5cc35be6"
      },
      "execution_count": null,
      "outputs": [
        {
          "output_type": "stream",
          "name": "stdout",
          "text": [
            "[5, 5, 5, 5, 5]\n"
          ]
        }
      ]
    },
    {
      "cell_type": "markdown",
      "source": [
        "Question3\n",
        "Create a function that takes the height and radius of a cone as arguments and returns the\n",
        "volume of the cone rounded to the nearest hundredth. See the resources tab for the formula.\n",
        "\n",
        "Examples\n",
        "cone_volume(3, 2) ➞ 12.57\n",
        "\n",
        "cone_volume(15, 6) ➞ 565.49\n",
        "cone_volume(18, 0) ➞ 0"
      ],
      "metadata": {
        "id": "GupjCIKnKo2_"
      }
    },
    {
      "cell_type": "code",
      "source": [
        "import math\n",
        "pi = math.pi\n",
        "\n",
        "def volume(r, h):\n",
        "    return (1 / 3) * pi * r * r * h\n",
        "\n",
        "def surfacearea(r, s):\n",
        "    return pi * r * s + pi * r * r\n",
        "\n",
        "radius = float(2)\n",
        "height = float(3)\n",
        "slat_height = float(2)\n",
        "print( \"Volume Of Cone : \", volume(radius, height) )\n",
        "print( \"Surface Area Of Cone : \", surfacearea(radius, slat_height) )"
      ],
      "metadata": {
        "colab": {
          "base_uri": "https://localhost:8080/"
        },
        "id": "tvj4KV3MKpME",
        "outputId": "8bc54191-7ab3-4581-9ff9-092f911c6b3b"
      },
      "execution_count": null,
      "outputs": [
        {
          "output_type": "stream",
          "name": "stdout",
          "text": [
            "Volume Of Cone :  12.566370614359172\n",
            "Surface Area Of Cone :  25.132741228718345\n"
          ]
        }
      ]
    },
    {
      "cell_type": "markdown",
      "source": [
        "Question4\n",
        "This Triangular Number Sequence is generated from a pattern of dots that form a triangle.\n",
        "The first 5 numbers of the sequence, or dots, are:\n",
        "1, 3, 6, 10, 15\n",
        "This means that the first triangle has just one dot, the second one has three dots, the third one\n",
        "has 6 dots and so on.\n",
        "Write a function that gives the number of dots with its corresponding triangle number of the\n",
        "sequence.\n",
        "Examples\n",
        "triangle(1) ➞ 1\n",
        "triangle(6) ➞ 21\n",
        "triangle(215) ➞ 23220"
      ],
      "metadata": {
        "id": "36fv6MHlKpfU"
      }
    },
    {
      "cell_type": "code",
      "source": [
        "def triangular_series( n ):\n",
        "    j = 1\n",
        "    k = 1\n",
        "\n",
        "    for i in range(1, n + 1):\n",
        "        print(k, end = ' ')\n",
        "        j = j + 1\n",
        "\n",
        "        k = k + j\n",
        "\n",
        "n = 1\n",
        "triangular_series(n)"
      ],
      "metadata": {
        "colab": {
          "base_uri": "https://localhost:8080/"
        },
        "id": "GviaVkwyKpxj",
        "outputId": "de1a6ed8-4895-4325-967b-26a937f2ad95"
      },
      "execution_count": null,
      "outputs": [
        {
          "output_type": "stream",
          "name": "stdout",
          "text": [
            "1 "
          ]
        }
      ]
    },
    {
      "cell_type": "markdown",
      "source": [
        "Question5\n",
        "Create a function that takes a list of numbers between 1 and 10 (excluding one number) and\n",
        "returns the missing number.\n",
        "Examples\n",
        "missing_num([1, 2, 3, 4, 6, 7, 8, 9, 10]) ➞ 5\n",
        "missing_num([7, 2, 3, 6, 5, 9, 1, 4, 8]) ➞ 10\n",
        "missing_num([10, 5, 1, 2, 4, 6, 8, 3, 9]) ➞ 7"
      ],
      "metadata": {
        "id": "-S02n878KqDB"
      }
    },
    {
      "cell_type": "code",
      "source": [
        "def getMissingNo(a, n):\n",
        "    i, total = 0, 1\n",
        "\n",
        "    for i in range(2, n + 2):\n",
        "        total += i\n",
        "        total -= a[i - 2]\n",
        "    return total\n",
        "\n",
        "\n",
        "# Driver Code\n",
        "if __name__ == '__main__':\n",
        "    arr = [1, 2, 3, 4,6,7,8,9,10]\n",
        "    N = len(arr)\n",
        "\n",
        "    # Function call\n",
        "    print(getMissingNo(arr, N))\n",
        ""
      ],
      "metadata": {
        "colab": {
          "base_uri": "https://localhost:8080/"
        },
        "id": "zehtLaJ9KqVF",
        "outputId": "4337ac14-41f4-4c2c-b207-b688b7afeff9"
      },
      "execution_count": null,
      "outputs": [
        {
          "output_type": "stream",
          "name": "stdout",
          "text": [
            "5\n"
          ]
        }
      ]
    },
    {
      "cell_type": "code",
      "source": [],
      "metadata": {
        "id": "PviCTmjnSPL-"
      },
      "execution_count": null,
      "outputs": []
    }
  ]
}