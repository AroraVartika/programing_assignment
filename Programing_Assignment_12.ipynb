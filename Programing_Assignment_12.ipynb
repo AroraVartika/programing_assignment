{
  "nbformat": 4,
  "nbformat_minor": 0,
  "metadata": {
    "colab": {
      "provenance": []
    },
    "kernelspec": {
      "name": "python3",
      "display_name": "Python 3"
    },
    "language_info": {
      "name": "python"
    }
  },
  "cells": [
    {
      "cell_type": "markdown",
      "source": [
        "1. Write a Python program to Extract Unique values dictionary values?"
      ],
      "metadata": {
        "id": "-K1BXlidL_do"
      }
    },
    {
      "cell_type": "code",
      "source": [
        "test_dict = {'gfg': [5, 6, 7, 8],\n",
        "             'is': [10, 11, 7, 5],\n",
        "             'best': [6, 12, 10, 8],\n",
        "             'for': [1, 2, 5]}\n",
        "\n",
        "print(\"The original dictionary is : \" + str(test_dict))\n",
        "\n",
        "res = list(sorted({ele for val in test_dict.values() for ele in val}))\n",
        "\n",
        "print(\"The unique values list is : \" + str(res))"
      ],
      "metadata": {
        "colab": {
          "base_uri": "https://localhost:8080/"
        },
        "id": "UFAE0Hx1L_1R",
        "outputId": "b6c49f79-8144-443c-cc80-b4e7971e65ed"
      },
      "execution_count": null,
      "outputs": [
        {
          "output_type": "stream",
          "name": "stdout",
          "text": [
            "The original dictionary is : {'gfg': [5, 6, 7, 8], 'is': [10, 11, 7, 5], 'best': [6, 12, 10, 8], 'for': [1, 2, 5]}\n",
            "The unique values list is : [1, 2, 5, 6, 7, 8, 10, 11, 12]\n"
          ]
        }
      ]
    },
    {
      "cell_type": "markdown",
      "source": [
        "2. Write a Python program to find the sum of all items in a dictionary?"
      ],
      "metadata": {
        "id": "3bwF6N2wMAJu"
      }
    },
    {
      "cell_type": "code",
      "source": [
        "def returnSum(dict):\n",
        "\n",
        "    sum = 0\n",
        "    for i in dict.values():\n",
        "        sum = sum + i\n",
        "\n",
        "    return sum\n",
        "\n",
        "\n",
        "# Driver Function\n",
        "dict = {'a': 100, 'b': 200, 'c': 300}\n",
        "print(\"Sum :\", returnSum(dict))"
      ],
      "metadata": {
        "colab": {
          "base_uri": "https://localhost:8080/"
        },
        "id": "pPyae89tMAcx",
        "outputId": "04db1414-9997-4ded-fcfa-6cc2d64665ed"
      },
      "execution_count": null,
      "outputs": [
        {
          "output_type": "stream",
          "name": "stdout",
          "text": [
            "Sum : 600\n"
          ]
        }
      ]
    },
    {
      "cell_type": "markdown",
      "source": [
        "3. Write a Python program to Merging two Dictionaries?"
      ],
      "metadata": {
        "id": "PiAjJwUcMA6C"
      }
    },
    {
      "cell_type": "code",
      "source": [
        "def Merge(dict1, dict2):\n",
        "    return(dict2.update(dict1))\n",
        "\n",
        "\n",
        "dict1 = {'a': 10, 'b': 8}\n",
        "dict2 = {'d': 6, 'c': 4}\n",
        "\n",
        "print(Merge(dict1, dict2))\n",
        "\n",
        "print(dict2)"
      ],
      "metadata": {
        "colab": {
          "base_uri": "https://localhost:8080/"
        },
        "id": "NxWQkSHLMBSg",
        "outputId": "171966d6-5434-4b5b-b4b6-f3390a4d9b9b"
      },
      "execution_count": null,
      "outputs": [
        {
          "output_type": "stream",
          "name": "stdout",
          "text": [
            "None\n",
            "{'d': 6, 'c': 4, 'a': 10, 'b': 8}\n"
          ]
        }
      ]
    },
    {
      "cell_type": "markdown",
      "source": [
        "4. Write a Python program to convert key-values list to flat dictionary?"
      ],
      "metadata": {
        "id": "pXLOzAMrNofS"
      }
    },
    {
      "cell_type": "code",
      "source": [
        "test_dict = {'month': [1, 2, 3], 'name': ['Jan', 'Feb', 'March']}\n",
        "res = {test_dict['month'][i]: test_dict['name'][i] for i in range(len(test_dict['month']))}\n",
        "print(\"Flattened dictionary:\", res)"
      ],
      "metadata": {
        "colab": {
          "base_uri": "https://localhost:8080/"
        },
        "id": "VwGjtIp5No0D",
        "outputId": "76c03e52-49bc-4f07-d0ae-fbddf43e2277"
      },
      "execution_count": null,
      "outputs": [
        {
          "output_type": "stream",
          "name": "stdout",
          "text": [
            "Flattened dictionary: {1: 'Jan', 2: 'Feb', 3: 'March'}\n"
          ]
        }
      ]
    },
    {
      "cell_type": "markdown",
      "source": [
        "5. Write a Python program to insertion at the beginning in OrderedDict?"
      ],
      "metadata": {
        "id": "Wf3x0DeQNpDK"
      }
    },
    {
      "cell_type": "code",
      "source": [
        "from collections import OrderedDict\n",
        "\n",
        "ini_dict1 = OrderedDict([('kavita', '1'), ('naman', '2')])\n",
        "ini_dict2 = OrderedDict([(\"Vartika\", '4'), (\"Jyoti\", '4')])\n",
        "\n",
        "both = OrderedDict(list(ini_dict2.items()) + list(ini_dict1.items()))\n",
        "\n",
        "print (\"Resultant Dictionary :\"+str(both))"
      ],
      "metadata": {
        "colab": {
          "base_uri": "https://localhost:8080/"
        },
        "id": "EAwfHPoiNpUc",
        "outputId": "252d62ce-6131-40c6-e0a0-152e1d0e445a"
      },
      "execution_count": null,
      "outputs": [
        {
          "output_type": "stream",
          "name": "stdout",
          "text": [
            "Resultant Dictionary :OrderedDict([('Vartika', '4'), ('Jyoti', '4'), ('kavita', '1'), ('naman', '2')])\n"
          ]
        }
      ]
    },
    {
      "cell_type": "markdown",
      "source": [
        "6. Write a Python program to check order of character in string using OrderedDict()?"
      ],
      "metadata": {
        "id": "nni_lmKzNpns"
      }
    },
    {
      "cell_type": "code",
      "source": [
        "def check_order(string, pattern):\n",
        "    i, j = 0, 0\n",
        "    for char in string:\n",
        "        if char == pattern[j]:\n",
        "            j += 1\n",
        "        if j == len(pattern):\n",
        "            return True\n",
        "        i += 1\n",
        "\n",
        "    return False\n",
        "string = 'FSDS BATCH'\n",
        "pattern = 'DS'\n",
        "print(check_order(string, pattern))"
      ],
      "metadata": {
        "colab": {
          "base_uri": "https://localhost:8080/"
        },
        "id": "vP6fWu1iNp7P",
        "outputId": "91b0e8f3-a059-4ea3-d5d8-2e23ac6e9c04"
      },
      "execution_count": null,
      "outputs": [
        {
          "output_type": "stream",
          "name": "stdout",
          "text": [
            "True\n"
          ]
        }
      ]
    },
    {
      "cell_type": "markdown",
      "source": [
        "7. Write a Python program to sort Python Dictionaries by Key or Value?"
      ],
      "metadata": {
        "id": "_00nD302PkW8"
      }
    },
    {
      "cell_type": "code",
      "source": [
        "myDict = {'ravi': 10, 'rajnish': 9,\n",
        "        'sanjeev': 15, 'yash': 2, 'suraj': 32}\n",
        "\n",
        "myKeys = list(myDict.keys())\n",
        "myKeys.sort()\n",
        "sorted_dict = {i: myDict[i] for i in myKeys}\n",
        "\n",
        "print(sorted_dict)"
      ],
      "metadata": {
        "colab": {
          "base_uri": "https://localhost:8080/"
        },
        "id": "5Ubj4-qFPkrI",
        "outputId": "67b95b20-d531-4706-ba47-9cb219f8747f"
      },
      "execution_count": null,
      "outputs": [
        {
          "output_type": "stream",
          "name": "stdout",
          "text": [
            "{'rajnish': 9, 'ravi': 10, 'sanjeev': 15, 'suraj': 32, 'yash': 2}\n"
          ]
        }
      ]
    },
    {
      "cell_type": "code",
      "source": [],
      "metadata": {
        "id": "9pB3FIBIQEpp"
      },
      "execution_count": null,
      "outputs": []
    }
  ]
}