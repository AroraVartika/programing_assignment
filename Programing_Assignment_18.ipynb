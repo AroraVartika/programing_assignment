{
  "nbformat": 4,
  "nbformat_minor": 0,
  "metadata": {
    "colab": {
      "provenance": []
    },
    "kernelspec": {
      "name": "python3",
      "display_name": "Python 3"
    },
    "language_info": {
      "name": "python"
    }
  },
  "cells": [
    {
      "cell_type": "markdown",
      "source": [
        "Question 1\n",
        "Create a function that takes a list of non-negative integers and strings and return a new list\n",
        "without the strings.\n",
        "Examples\n",
        "filter_list([1, 2, &quot;a&quot;, &quot;b&quot;]) ➞ [1, 2]\n",
        "filter_list([1, &quot;a&quot;, &quot;b&quot;, 0, 15]) ➞ [1, 0, 15]\n",
        "filter_list([1, 2, &quot;aasf&quot;, &quot;1&quot;, &quot;123&quot;, 123]) ➞ [1, 2, 123]"
      ],
      "metadata": {
        "id": "LQ1pU-zHeCvd"
      }
    },
    {
      "cell_type": "code",
      "source": [
        "l = [1,2,'a','b']\n",
        "\n",
        "def filter_list(l):\n",
        "    new_list = []\n",
        "    for x in l:\n",
        "        if type(x) == int:\n",
        "            new_list.append(x)\n",
        "    return new_list\n",
        "\n",
        "print(filter_list(l))"
      ],
      "metadata": {
        "colab": {
          "base_uri": "https://localhost:8080/"
        },
        "id": "qdOYnYBDeDDJ",
        "outputId": "6b554436-ce72-4dfd-9fef-005c7a387a84"
      },
      "execution_count": null,
      "outputs": [
        {
          "output_type": "stream",
          "name": "stdout",
          "text": [
            "[1, 2]\n"
          ]
        }
      ]
    },
    {
      "cell_type": "markdown",
      "source": [
        "Question 2\n",
        "The &quot;Reverser&quot; takes a string as input and returns that string in reverse order, with the\n",
        "opposite case.\n",
        "Examples\n",
        "reverse(&quot;Hello World&quot;) ➞ &quot;DLROw OLLEh&quot;\n",
        "reverse(&quot;ReVeRsE&quot;) ➞ &quot;eSrEvEr&quot;\n",
        "reverse(&quot;Radar&quot;) ➞ &quot;RADAr&quot;"
      ],
      "metadata": {
        "id": "IypTVrgqeDVK"
      }
    },
    {
      "cell_type": "code",
      "source": [
        "def string_reverse(str1):\n",
        "\n",
        "    rstr1 = ''\n",
        "    index = len(str1)\n",
        "    while index > 0:\n",
        "        rstr1 += str1[ index - 1 ]\n",
        "        index = index - 1\n",
        "    return rstr1\n",
        "print(string_reverse('Hello World'))\n"
      ],
      "metadata": {
        "colab": {
          "base_uri": "https://localhost:8080/"
        },
        "id": "D-xoKauCeDoY",
        "outputId": "cf644ca3-92ac-48c6-9976-f1e548cf62d5"
      },
      "execution_count": null,
      "outputs": [
        {
          "output_type": "stream",
          "name": "stdout",
          "text": [
            "dlroW olleH\n"
          ]
        }
      ]
    },
    {
      "cell_type": "markdown",
      "source": [
        "3 You can assign variables from lists like this:\n",
        "lst = [1, 2, 3, 4, 5, 6]\n",
        "first = lst[0]\n",
        "middle = lst[1:-1]\n",
        "last = lst[-1]\n",
        "print(first) ➞ outputs 1\n",
        "print(middle) ➞ outputs [2, 3, 4, 5]\n",
        "print(last) ➞ outputs 6\n",
        "With Python 3, you can assign variables from lists in a much more succinct way. Create\n",
        "variables first, middle and last from the given list using destructuring assignment\n",
        "(check the Resources tab for some examples), where:\n",
        "first ➞ 1\n",
        "middle ➞ [2, 3, 4, 5]\n",
        "last ➞ 6\n",
        "\n",
        "Your task is to unpack the list writeyourcodehere into three variables, being first,\n",
        "middle, and last, with middle being everything in between the first and last element. Then\n",
        "print all three variables."
      ],
      "metadata": {
        "id": "P-SkAuMpeEPM"
      }
    },
    {
      "cell_type": "code",
      "source": [
        "lst = [1, 2, 3, 4, 5, 6]\n",
        "first ,*middle,last = lst\n",
        "first"
      ],
      "metadata": {
        "colab": {
          "base_uri": "https://localhost:8080/"
        },
        "id": "8DEzavD8eEiO",
        "outputId": "61ffe676-9eab-40e8-80f2-c1749ddb2e6f"
      },
      "execution_count": null,
      "outputs": [
        {
          "output_type": "execute_result",
          "data": {
            "text/plain": [
              "1"
            ]
          },
          "metadata": {},
          "execution_count": 7
        }
      ]
    },
    {
      "cell_type": "code",
      "source": [
        "middle"
      ],
      "metadata": {
        "colab": {
          "base_uri": "https://localhost:8080/"
        },
        "id": "MCOVudoSobjg",
        "outputId": "734b971d-6d35-4760-b8ad-fc95a52773de"
      },
      "execution_count": null,
      "outputs": [
        {
          "output_type": "execute_result",
          "data": {
            "text/plain": [
              "[2, 3, 4, 5]"
            ]
          },
          "metadata": {},
          "execution_count": 8
        }
      ]
    },
    {
      "cell_type": "code",
      "source": [
        "last"
      ],
      "metadata": {
        "colab": {
          "base_uri": "https://localhost:8080/"
        },
        "id": "0ADjyxEzob7U",
        "outputId": "4bbde13f-869b-4829-bd16-294affa55741"
      },
      "execution_count": null,
      "outputs": [
        {
          "output_type": "execute_result",
          "data": {
            "text/plain": [
              "6"
            ]
          },
          "metadata": {},
          "execution_count": 9
        }
      ]
    },
    {
      "cell_type": "markdown",
      "source": [
        "Question 4\n",
        "Write a function that calculates the factorial of a number recursively.\n",
        "Examples\n",
        "factorial(5) ➞ 120\n",
        "factorial(3) ➞ 6\n",
        "factorial(1) ➞ 1\n",
        "factorial(0) ➞ 1"
      ],
      "metadata": {
        "id": "PeNwUr9ehHCw"
      }
    },
    {
      "cell_type": "code",
      "source": [
        "def factorial(n):\n",
        "\n",
        "    if (n==1 or n==0):\n",
        "         return 1\n",
        "    else:\n",
        "         return (n * factorial(n - 1))\n",
        "\n",
        "\n",
        "num = 5;\n",
        "print(\"number : \",num)\n",
        "print(\"Factorial : \",factorial(num))"
      ],
      "metadata": {
        "colab": {
          "base_uri": "https://localhost:8080/"
        },
        "id": "7xuQZrPyhHXA",
        "outputId": "ed7d58b9-14a2-47bd-f50e-8e1bd9d7badb"
      },
      "execution_count": null,
      "outputs": [
        {
          "output_type": "stream",
          "name": "stdout",
          "text": [
            "number :  5\n",
            "Factorial :  120\n"
          ]
        }
      ]
    },
    {
      "cell_type": "markdown",
      "source": [
        "Question 5\n",
        "Write a function that moves all elements of one type to the end of the list.\n",
        "Examples\n",
        "move_to_end([1, 3, 2, 4, 4, 1], 1) ➞ [3, 2, 4, 4, 1, 1]\n",
        "# Move all the 1s to the end of the array.\n",
        "move_to_end([7, 8, 9, 1, 2, 3, 4], 9) ➞ [7, 8, 1, 2, 3, 4, 9]\n",
        "move_to_end([&quot;a&quot;, &quot;a&quot;, &quot;a&quot;, &quot;b&quot;], &quot;a&quot;) ➞ [&quot;b&quot;, &quot;a&quot;, &quot;a&quot;, &quot;a&quot;]"
      ],
      "metadata": {
        "id": "nIQNmdXchslX"
      }
    },
    {
      "cell_type": "code",
      "source": [
        "def move_to_end(array, toMove):\n",
        "\n",
        "    i = 0\n",
        "\n",
        "    # Mark the right pointer\n",
        "    j = len(array) - 1\n",
        "\n",
        "    # Iterate untill left pointer\n",
        "    # crosses the right pointer\n",
        "    while (i < j):\n",
        "\n",
        "        while (i < j and array[j] == toMove):\n",
        "\n",
        "            # decrement right pointer\n",
        "            j-=1\n",
        "\n",
        "        if (array[i] == toMove):\n",
        "\n",
        "            # swap the two elements\n",
        "            # in the array\n",
        "            array[i], array[j] = array[j] , array[i]\n",
        "\n",
        "        # increment left pointer\n",
        "        i += 1\n",
        "\n",
        "    # return the result\n",
        "    return array"
      ],
      "metadata": {
        "id": "S0Ivwp8Khs44"
      },
      "execution_count": null,
      "outputs": []
    },
    {
      "cell_type": "code",
      "source": [
        "arr = [1, 3, 2, 4, 4, 1]\n",
        "k = 1\n",
        "ans = move_to_end(arr, k)\n",
        "for i in range(len(arr)):\n",
        "    print(ans[i] ,end= \" \")"
      ],
      "metadata": {
        "colab": {
          "base_uri": "https://localhost:8080/"
        },
        "id": "cQKHO0WHn-z9",
        "outputId": "3fd81638-82ac-4db5-acf7-437b3c502c42"
      },
      "execution_count": null,
      "outputs": [
        {
          "output_type": "stream",
          "name": "stdout",
          "text": [
            "4 3 2 4 1 1 "
          ]
        }
      ]
    },
    {
      "cell_type": "code",
      "source": [
        "arr = ['a', 'a', 'a', 'b']\n",
        "k = 'a'\n",
        "ans = move_to_end(arr, k)\n",
        "for i in range(len(arr)):\n",
        "    print(ans[i] ,end= \" \")"
      ],
      "metadata": {
        "colab": {
          "base_uri": "https://localhost:8080/"
        },
        "id": "FR-h6XU1oGQ8",
        "outputId": "031b2801-d340-42ff-ec12-3e17aa0fcbb4"
      },
      "execution_count": null,
      "outputs": [
        {
          "output_type": "stream",
          "name": "stdout",
          "text": [
            "b a a a "
          ]
        }
      ]
    },
    {
      "cell_type": "code",
      "source": [],
      "metadata": {
        "id": "6vgXyEt5oOTS"
      },
      "execution_count": null,
      "outputs": []
    }
  ]
}