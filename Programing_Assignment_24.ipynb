{
  "nbformat": 4,
  "nbformat_minor": 0,
  "metadata": {
    "colab": {
      "provenance": []
    },
    "kernelspec": {
      "name": "python3",
      "display_name": "Python 3"
    },
    "language_info": {
      "name": "python"
    }
  },
  "cells": [
    {
      "cell_type": "markdown",
      "source": [
        "Question1\n",
        "Create a function that takes an integer and returns a list from 1 to the given number, where:\n",
        "1. If the number can be divided evenly by 4, amplify it by 10 (i.e. return 10 times the\n",
        "number).\n",
        "2. If the number cannot be divided evenly by 4, simply return the number.\n",
        "Examples\n",
        "amplify(4) ➞ [1, 2, 3, 40]\n",
        "amplify(3) ➞ [1, 2, 3]\n",
        "amplify(25) ➞ [1, 2, 3, 40, 5, 6, 7, 80, 9, 10, 11, 120, 13, 14, 15, 160,\n",
        "17, 18, 19, 200, 21, 22, 23, 240, 25]\n",
        "Notes\n",
        " The given integer will always be equal to or greater than 1.\n",
        " Include the number (see example above).\n",
        " To perform this problem with its intended purpose, try doing it with list\n",
        "comprehensions. If that's too difficult, just solve the challenge any way you can."
      ],
      "metadata": {
        "id": "BzYtbzTW02DQ"
      }
    },
    {
      "cell_type": "code",
      "source": [
        "def amplify(n):\n",
        "    return [i*10 if i % 4 == 0 else i for i in range(1,n+1) ]"
      ],
      "metadata": {
        "id": "Ay1CgOJc02Yq"
      },
      "execution_count": null,
      "outputs": []
    },
    {
      "cell_type": "code",
      "source": [
        "amplify(4)"
      ],
      "metadata": {
        "colab": {
          "base_uri": "https://localhost:8080/"
        },
        "id": "KCEyWyWc1u4O",
        "outputId": "397c02e0-c34b-46bf-97b8-0d228739f1c9"
      },
      "execution_count": null,
      "outputs": [
        {
          "output_type": "execute_result",
          "data": {
            "text/plain": [
              "[1, 2, 3, 40]"
            ]
          },
          "metadata": {},
          "execution_count": 2
        }
      ]
    },
    {
      "cell_type": "code",
      "source": [
        "print(amplify(25))"
      ],
      "metadata": {
        "colab": {
          "base_uri": "https://localhost:8080/"
        },
        "id": "FGgIWeT51vL4",
        "outputId": "67e08543-57c5-4048-e436-b08abd118763"
      },
      "execution_count": null,
      "outputs": [
        {
          "output_type": "stream",
          "name": "stdout",
          "text": [
            "[1, 2, 3, 40, 5, 6, 7, 80, 9, 10, 11, 120, 13, 14, 15, 160, 17, 18, 19, 200, 21, 22, 23, 240, 25]\n"
          ]
        }
      ]
    },
    {
      "cell_type": "markdown",
      "source": [
        "Question2\n",
        "Create a function that takes a list of numbers and return the number that's unique.\n",
        "Examples\n",
        "unique([3, 3, 3, 7, 3, 3]) ➞ 7\n",
        "unique([0, 0, 0.77, 0, 0]) ➞ 0.77\n",
        "unique([0, 1, 1, 1, 1, 1, 1, 1]) ➞ 0\n",
        "Notes\n",
        "Test cases will always have exactly one unique number while all others are the same.\n"
      ],
      "metadata": {
        "id": "qMNwN8CP02tO"
      }
    },
    {
      "cell_type": "code",
      "source": [
        "def unique(lst):\n",
        "    s = list(set(lst))# give us unique value\n",
        "    for i in s:\n",
        "        if lst.count(i) == 1:\n",
        "            return i"
      ],
      "metadata": {
        "id": "7LTRCB9k0302"
      },
      "execution_count": null,
      "outputs": []
    },
    {
      "cell_type": "code",
      "source": [
        "unique([3, 3, 3, 7, 3, 3])"
      ],
      "metadata": {
        "colab": {
          "base_uri": "https://localhost:8080/"
        },
        "id": "ToLuwTee2Rtf",
        "outputId": "5dae07ba-da4e-4a75-a3fd-f72ad27fe424"
      },
      "execution_count": null,
      "outputs": [
        {
          "output_type": "execute_result",
          "data": {
            "text/plain": [
              "7"
            ]
          },
          "metadata": {},
          "execution_count": 5
        }
      ]
    },
    {
      "cell_type": "code",
      "source": [
        "unique([0, 0, 0.77, 0, 0])"
      ],
      "metadata": {
        "colab": {
          "base_uri": "https://localhost:8080/"
        },
        "id": "024DsoAu2SEf",
        "outputId": "5d56cf23-d2f2-462f-8e35-b1cf644af196"
      },
      "execution_count": null,
      "outputs": [
        {
          "output_type": "execute_result",
          "data": {
            "text/plain": [
              "0.77"
            ]
          },
          "metadata": {},
          "execution_count": 6
        }
      ]
    },
    {
      "cell_type": "markdown",
      "source": [
        "Question3\n",
        "Your task is to create a Circle constructor that creates a circle with a radius provided by an\n",
        "argument. The circles constructed must have two getters getArea() (PIr^2) and\n",
        "getPerimeter() (2PI*r) which give both respective areas and perimeter (circumference).\n",
        "\n",
        "For help with this class, I have provided you with a Rectangle constructor which you can use\n",
        "as a base example.\n",
        "Examples\n",
        "circy = Circle(11)\n",
        "circy.getArea()\n",
        "# Should return 380.132711084365\n",
        "circy = Circle(4.44)\n",
        "circy.getPerimeter()\n",
        "# Should return 27.897342763877365\n",
        "Notes\n",
        "Round results up to the nearest integer.\n"
      ],
      "metadata": {
        "id": "-74meNpL04Lx"
      }
    },
    {
      "cell_type": "code",
      "source": [
        "class Circle():\n",
        "    def __init__(self, r):\n",
        "        self.radius = r\n",
        "\n",
        "    def getArea(self):\n",
        "        return round(self.radius**2*3.14)\n",
        "\n",
        "    def getPerimeter(self):\n",
        "        return round(2*self.radius*3.14)"
      ],
      "metadata": {
        "id": "vwB4wEhM04vo"
      },
      "execution_count": null,
      "outputs": []
    },
    {
      "cell_type": "code",
      "source": [
        "circy = Circle(11)\n",
        "circy.getArea()"
      ],
      "metadata": {
        "colab": {
          "base_uri": "https://localhost:8080/"
        },
        "id": "OC4cf15n4Fkl",
        "outputId": "d0bfb97e-8fd3-4d11-acd4-5c047011f8cb"
      },
      "execution_count": null,
      "outputs": [
        {
          "output_type": "execute_result",
          "data": {
            "text/plain": [
              "380"
            ]
          },
          "metadata": {},
          "execution_count": 8
        }
      ]
    },
    {
      "cell_type": "code",
      "source": [
        "circy = Circle(4.44)\n",
        "circy.getPerimeter()"
      ],
      "metadata": {
        "colab": {
          "base_uri": "https://localhost:8080/"
        },
        "id": "F45kE9fz4NoA",
        "outputId": "c42675b7-29a2-412a-8960-ca7f13738037"
      },
      "execution_count": null,
      "outputs": [
        {
          "output_type": "execute_result",
          "data": {
            "text/plain": [
              "28"
            ]
          },
          "metadata": {},
          "execution_count": 9
        }
      ]
    },
    {
      "cell_type": "markdown",
      "source": [
        "Question4\n",
        "Create a function that takes a list of strings and return a list, sorted from shortest to longest.\n",
        "Examples\n",
        "sort_by_length(['Google', 'Apple', 'Microsoft'])\n",
        "➞ ['Apple', 'Google', 'Microsoft']\n",
        "sort_by_length(['Leonardo', 'Michelangelo', 'Raphael', 'Donatello'])\n",
        "➞ ['Raphael', 'Leonardo', 'Donatello', 'Michelangelo']\n",
        "sort_by_length(['Turing', 'Einstein', 'Jung'])\n",
        "➞ ['Jung', 'Turing', 'Einstein']\n",
        "Notes\n",
        "All test cases contain lists with strings of different lengths, so you won't have to deal with\n",
        "multiple strings of the same length.\n"
      ],
      "metadata": {
        "id": "FFftBlh606Di"
      }
    },
    {
      "cell_type": "code",
      "source": [
        "def sort_by_length(lst):\n",
        "    return sorted(lst, key = len)"
      ],
      "metadata": {
        "id": "VuQdGPdN4Dph"
      },
      "execution_count": null,
      "outputs": []
    },
    {
      "cell_type": "code",
      "source": [
        "sort_by_length(['Google', 'Apple', 'Microsoft'])"
      ],
      "metadata": {
        "colab": {
          "base_uri": "https://localhost:8080/"
        },
        "id": "3Yo7I3VU4bwi",
        "outputId": "5afaee10-d9f0-489e-d700-c38f19b1446a"
      },
      "execution_count": null,
      "outputs": [
        {
          "output_type": "execute_result",
          "data": {
            "text/plain": [
              "['Apple', 'Google', 'Microsoft']"
            ]
          },
          "metadata": {},
          "execution_count": 11
        }
      ]
    },
    {
      "cell_type": "code",
      "source": [
        "sort_by_length(['Leonardo', 'Michelangelo', 'Raphael', 'Donatello'])"
      ],
      "metadata": {
        "colab": {
          "base_uri": "https://localhost:8080/"
        },
        "id": "IFKD49Gx4cDD",
        "outputId": "8fdd0ae4-663e-426b-f0e6-49960f8019fe"
      },
      "execution_count": null,
      "outputs": [
        {
          "output_type": "execute_result",
          "data": {
            "text/plain": [
              "['Raphael', 'Leonardo', 'Donatello', 'Michelangelo']"
            ]
          },
          "metadata": {},
          "execution_count": 12
        }
      ]
    },
    {
      "cell_type": "code",
      "source": [
        "sort_by_length(['Turing', 'Einstein', 'Jung'])"
      ],
      "metadata": {
        "colab": {
          "base_uri": "https://localhost:8080/"
        },
        "id": "h-lhFR4r06WC",
        "outputId": "d575fde7-9509-47e0-ff06-3008daef07ef"
      },
      "execution_count": null,
      "outputs": [
        {
          "output_type": "execute_result",
          "data": {
            "text/plain": [
              "['Jung', 'Turing', 'Einstein']"
            ]
          },
          "metadata": {},
          "execution_count": 13
        }
      ]
    },
    {
      "cell_type": "markdown",
      "source": [
        "Question5\n",
        "Create a function that validates whether three given integers form a Pythagorean triplet. The\n",
        "sum of the squares of the two smallest integers must equal the square of the largest number to\n",
        "be validated.\n",
        "\n",
        "Examples\n",
        "is_triplet(3, 4, 5) ➞ True\n",
        "# 3² + 4² = 25\n",
        "# 5² = 25\n",
        "is_triplet(13, 5, 12) ➞ True\n",
        "# 5² + 12² = 169\n",
        "# 13² = 169\n",
        "is_triplet(1, 2, 3) ➞ False\n",
        "# 1² + 2² = 5\n",
        "# 3² = 9\n",
        "Notes\n",
        "Numbers may not be given in a sorted order."
      ],
      "metadata": {
        "id": "5t2hj-Qc06wm"
      }
    },
    {
      "cell_type": "code",
      "source": [
        "def is_triplet(a,b,c):\n",
        "    lst = []\n",
        "    lst.extend((a,b,c))\n",
        "    lst = sorted(lst)\n",
        "\n",
        "    if lst[0]**2 + lst[1]**2 == lst[2]**2:\n",
        "        print('Triplets')\n",
        "        return True\n",
        "    else:\n",
        "        print(\"not triplet\")\n",
        "        return False"
      ],
      "metadata": {
        "id": "ye5CbFtg07Eq"
      },
      "execution_count": null,
      "outputs": []
    },
    {
      "cell_type": "code",
      "source": [
        "is_triplet(3, 4, 5)"
      ],
      "metadata": {
        "colab": {
          "base_uri": "https://localhost:8080/"
        },
        "id": "uKmWzice4x79",
        "outputId": "b5d87950-9003-43e9-cd66-48a347aace3e"
      },
      "execution_count": null,
      "outputs": [
        {
          "output_type": "stream",
          "name": "stdout",
          "text": [
            "Triplets\n"
          ]
        },
        {
          "output_type": "execute_result",
          "data": {
            "text/plain": [
              "True"
            ]
          },
          "metadata": {},
          "execution_count": 15
        }
      ]
    },
    {
      "cell_type": "code",
      "source": [
        "is_triplet(13, 5, 12)"
      ],
      "metadata": {
        "colab": {
          "base_uri": "https://localhost:8080/"
        },
        "id": "zW74tOFy4yK4",
        "outputId": "5ab0f6b3-25ae-4fdf-a3f0-8baf3ca08d4b"
      },
      "execution_count": null,
      "outputs": [
        {
          "output_type": "stream",
          "name": "stdout",
          "text": [
            "Triplets\n"
          ]
        },
        {
          "output_type": "execute_result",
          "data": {
            "text/plain": [
              "True"
            ]
          },
          "metadata": {},
          "execution_count": 16
        }
      ]
    },
    {
      "cell_type": "code",
      "source": [
        "is_triplet(1, 2, 3)\n"
      ],
      "metadata": {
        "colab": {
          "base_uri": "https://localhost:8080/"
        },
        "id": "CuLfaheD4ya6",
        "outputId": "4dc1235a-430c-46a9-a480-286b7dc835f1"
      },
      "execution_count": null,
      "outputs": [
        {
          "output_type": "stream",
          "name": "stdout",
          "text": [
            "not triplet\n"
          ]
        },
        {
          "output_type": "execute_result",
          "data": {
            "text/plain": [
              "False"
            ]
          },
          "metadata": {},
          "execution_count": 17
        }
      ]
    }
  ]
}