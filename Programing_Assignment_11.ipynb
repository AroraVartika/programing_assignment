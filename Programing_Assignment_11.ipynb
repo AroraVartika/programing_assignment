{
  "nbformat": 4,
  "nbformat_minor": 0,
  "metadata": {
    "colab": {
      "provenance": []
    },
    "kernelspec": {
      "name": "python3",
      "display_name": "Python 3"
    },
    "language_info": {
      "name": "python"
    }
  },
  "cells": [
    {
      "cell_type": "markdown",
      "source": [
        "1. Write a Python program to find words which are greater than given length k?"
      ],
      "metadata": {
        "id": "5A5rO-QS5juw"
      }
    },
    {
      "cell_type": "code",
      "source": [
        "S = \"FSDS OF Ineuron is the best\"\n",
        "K = 4\n",
        "s = S.split(\" \")\n",
        "l = list(filter(lambda x: (len(x) > K), s))\n",
        "\n",
        "print(l)\n"
      ],
      "metadata": {
        "colab": {
          "base_uri": "https://localhost:8080/"
        },
        "id": "-naw0_L45kAF",
        "outputId": "0669df2e-a23a-42e2-e74e-ee7ca377104f"
      },
      "execution_count": null,
      "outputs": [
        {
          "output_type": "stream",
          "name": "stdout",
          "text": [
            "['Ineuron']\n"
          ]
        }
      ]
    },
    {
      "cell_type": "markdown",
      "source": [
        "2. Write a Python program for removing i-th character from a string?"
      ],
      "metadata": {
        "id": "fxjNyEmP5kOX"
      }
    },
    {
      "cell_type": "code",
      "source": [
        "import re\n",
        "\n",
        "def remove(string, i):\n",
        "    pattern = f\"(^.{{{i}}})(.)\"\n",
        "    return re.sub(pattern, r\"\\1\", string)\n",
        "\n",
        "# Driver Code\n",
        "if __name__ == '__main__':\n",
        "    string = \"VARTIIKA\"\n",
        "    #i-th index to be removed\n",
        "    i = 5\n",
        "    #string after removal of i-th index\n",
        "    print(remove(string, i))"
      ],
      "metadata": {
        "colab": {
          "base_uri": "https://localhost:8080/"
        },
        "id": "4pf5l6Iv5kcY",
        "outputId": "11042c70-563b-47f8-98ea-221cab17660e"
      },
      "execution_count": null,
      "outputs": [
        {
          "output_type": "stream",
          "name": "stdout",
          "text": [
            "VARTIKA\n"
          ]
        }
      ]
    },
    {
      "cell_type": "markdown",
      "source": [
        "3. Write a Python program to split and join a string?"
      ],
      "metadata": {
        "id": "ficp4Yv65kqt"
      }
    },
    {
      "cell_type": "code",
      "source": [
        "s = 'Vartika Arora Vartika'\n",
        "# print the string after split method\n",
        "print(s.split(\" \"))\n",
        "# print the string after join method\n",
        "print(\"-\".join(s.split()))"
      ],
      "metadata": {
        "colab": {
          "base_uri": "https://localhost:8080/"
        },
        "id": "1ey45y035k16",
        "outputId": "b857b27c-c619-4fa5-9c13-346264399cc0"
      },
      "execution_count": null,
      "outputs": [
        {
          "output_type": "stream",
          "name": "stdout",
          "text": [
            "['Vartika', 'Arora', 'Vartika']\n",
            "Vartika-Arora-Vartika\n"
          ]
        }
      ]
    },
    {
      "cell_type": "markdown",
      "source": [
        "4. Write a Python to check if a given string is binary string or not?"
      ],
      "metadata": {
        "id": "A3wDdUeM5lJj"
      }
    },
    {
      "cell_type": "code",
      "source": [
        "def check(string):\n",
        "    try:\n",
        "        int(string, 2)\n",
        "    except ValueError:\n",
        "        return \"No\"\n",
        "    return \"Yes\"\n",
        "\n",
        "\n",
        "if __name__ == \"__main__\":\n",
        "\n",
        "    string1 = \"1010110001100\"\n",
        "    string2 = \"201000001\"\n",
        "\n",
        "    # function calling\n",
        "    print(check(string1))\n",
        "    print(check(string2))"
      ],
      "metadata": {
        "colab": {
          "base_uri": "https://localhost:8080/"
        },
        "id": "ZbKOIil65lV-",
        "outputId": "4fa124bc-1ff7-42ba-fa84-dc13b297b673"
      },
      "execution_count": null,
      "outputs": [
        {
          "output_type": "stream",
          "name": "stdout",
          "text": [
            "Yes\n",
            "No\n"
          ]
        }
      ]
    },
    {
      "cell_type": "markdown",
      "source": [
        "5. Write a Python program to find uncommon words from two Strings?"
      ],
      "metadata": {
        "id": "AlPn_WN85ll9"
      }
    },
    {
      "cell_type": "code",
      "source": [
        "def UncommonWords(A, B):\n",
        "\n",
        "    setA = set(A.split())\n",
        "    setB = set(B.split())\n",
        "\n",
        "    uncommonWords = setA.difference(setB).union(setB.difference(setA))\n",
        "\n",
        "    return list(uncommonWords)\n",
        "\n",
        "A = \"Vartika Arora lives in Sirsa\"\n",
        "B = \"Vartika Arora of Sirsa\"\n",
        "\n",
        "print(UncommonWords(A, B))"
      ],
      "metadata": {
        "colab": {
          "base_uri": "https://localhost:8080/"
        },
        "id": "TGdvRRHi5lyM",
        "outputId": "b4415633-c1d8-4d8a-d2dd-dc49a766c961"
      },
      "execution_count": null,
      "outputs": [
        {
          "output_type": "stream",
          "name": "stdout",
          "text": [
            "['in', 'of', 'lives']\n"
          ]
        }
      ]
    },
    {
      "cell_type": "markdown",
      "source": [
        "6. Write a Python to find all duplicate characters in string?"
      ],
      "metadata": {
        "id": "bln_720J-Bz3"
      }
    },
    {
      "cell_type": "code",
      "source": [
        "def find_dup_char(input):\n",
        "    x=[]\n",
        "    for i in input:\n",
        "        if i not in x and input.count(i)>1:\n",
        "            x.append(i)\n",
        "    print(\" \".join(x))\n",
        "\n",
        "if __name__ == \"__main__\":\n",
        "    input = 'Vartika'\n",
        "    find_dup_char(input)"
      ],
      "metadata": {
        "colab": {
          "base_uri": "https://localhost:8080/"
        },
        "id": "TbKCldJa-CMA",
        "outputId": "910a0d95-60c2-40a9-878a-155160ed5a74"
      },
      "execution_count": null,
      "outputs": [
        {
          "output_type": "stream",
          "name": "stdout",
          "text": [
            "a\n"
          ]
        }
      ]
    },
    {
      "cell_type": "markdown",
      "source": [
        "7. Write a Python Program to check if a string contains any special character?"
      ],
      "metadata": {
        "id": "h1YB8q11-hpw"
      }
    },
    {
      "cell_type": "code",
      "source": [
        "import string\n",
        "\n",
        "def check_string(s):\n",
        "    for c in s:\n",
        "        if c in string.punctuation:\n",
        "            print(\"String is not accepted\")\n",
        "            return\n",
        "    print(\"String is accepted\")\n",
        "\n",
        "check_string(\"Vartika$Arora$aa\")\n",
        "check_string(\"Vartika Arora\")"
      ],
      "metadata": {
        "colab": {
          "base_uri": "https://localhost:8080/"
        },
        "id": "x7DwlGk8-iKJ",
        "outputId": "f917ab63-a2d8-44e3-95a5-15c57c450eec"
      },
      "execution_count": null,
      "outputs": [
        {
          "output_type": "stream",
          "name": "stdout",
          "text": [
            "String is not accepted\n",
            "String is accepted\n"
          ]
        }
      ]
    }
  ]
}