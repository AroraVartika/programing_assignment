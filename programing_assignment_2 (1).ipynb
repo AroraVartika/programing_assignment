{
  "nbformat": 4,
  "nbformat_minor": 0,
  "metadata": {
    "colab": {
      "provenance": []
    },
    "kernelspec": {
      "name": "python3",
      "display_name": "Python 3"
    },
    "language_info": {
      "name": "python"
    }
  },
  "cells": [
    {
      "cell_type": "markdown",
      "source": [
        "1.\tWrite a Python program to convert kilometers to miles?"
      ],
      "metadata": {
        "id": "9MnqI2jbTrm9"
      }
    },
    {
      "cell_type": "code",
      "execution_count": null,
      "metadata": {
        "colab": {
          "base_uri": "https://localhost:8080/"
        },
        "id": "DxpHR-VP37IR",
        "outputId": "74470866-2e24-4679-eb98-495d700860e0"
      },
      "outputs": [
        {
          "output_type": "stream",
          "name": "stdout",
          "text": [
            "Enter the speed of Car in Kilometre15\n",
            "speed of car in miles:  9.320549999999999\n"
          ]
        }
      ],
      "source": [
        "# conversion\n",
        "k=float(input('Enter the speed of Car in Kilometre'))\n",
        "miles=k* 0.62137\n",
        "print('speed of car in miles: ',miles)"
      ]
    },
    {
      "cell_type": "markdown",
      "source": [
        "2.\tWrite a Python program to convert Celsius to Fahrenheit?"
      ],
      "metadata": {
        "id": "3pD0wH4PVQly"
      }
    },
    {
      "cell_type": "code",
      "source": [
        "# celcius to Fahrenheit\n",
        "c=float(input('Enter the temperature in celcius'))\n",
        "f=(c*(9/5))+32\n",
        "print('Temperature in Fahrenheit is: ',f)\n"
      ],
      "metadata": {
        "colab": {
          "base_uri": "https://localhost:8080/"
        },
        "id": "NKhCfSl-_t3b",
        "outputId": "401cd2fa-8f81-40f9-f7ff-09d4985c35ef"
      },
      "execution_count": null,
      "outputs": [
        {
          "output_type": "stream",
          "name": "stdout",
          "text": [
            "Enter the temperature in celcius37\n",
            "Temperature in Fahrenheit is:  98.60000000000001\n"
          ]
        }
      ]
    },
    {
      "cell_type": "markdown",
      "source": [
        "3.\tWrite a Python program to display calendar?"
      ],
      "metadata": {
        "id": "ba-xvLvGUadX"
      }
    },
    {
      "cell_type": "code",
      "source": [
        "import calendar\n",
        "y=int(input('Enter year'))\n",
        "m=int(input('Enter month'))\n",
        "print(calendar.month(y,m))"
      ],
      "metadata": {
        "colab": {
          "base_uri": "https://localhost:8080/"
        },
        "id": "zrsd8NHVBizz",
        "outputId": "9399b34c-22a3-4961-8b5e-cc43acc1b524"
      },
      "execution_count": null,
      "outputs": [
        {
          "output_type": "stream",
          "name": "stdout",
          "text": [
            "Enter year1997\n",
            "Enter month8\n",
            "    August 1997\n",
            "Mo Tu We Th Fr Sa Su\n",
            "             1  2  3\n",
            " 4  5  6  7  8  9 10\n",
            "11 12 13 14 15 16 17\n",
            "18 19 20 21 22 23 24\n",
            "25 26 27 28 29 30 31\n",
            "\n"
          ]
        }
      ]
    },
    {
      "cell_type": "markdown",
      "source": [
        "4.\tWrite a Python program to solve quadratic equation?"
      ],
      "metadata": {
        "id": "RAVRnc31VE8i"
      }
    },
    {
      "cell_type": "code",
      "source": [
        "# program to solve Quadratic equation\n",
        "import math\n",
        "a = float(input('Enter the first coefficient of quadratic equation:   '))\n",
        "b = float(input('Enter the second coefficient of quadratic equation:   '))\n",
        "c = float(input('Enter the third coefficient of quadratic equation:   '))\n",
        "d = b**2 - 4*a*c\n",
        "print(d)\n",
        "if d<0:\n",
        "  print(\"no solution\")\n",
        "elif d==0:\n",
        "  x=(-b+math.sqrt(b**2-4*a*c))/2*a\n",
        "  print(\"solution is: \",x)\n",
        "else:\n",
        "  x=(-b+math.sqrt(b**2-4*a*c))/2*a\n",
        "  y=(-b+math.sqrt(b**2+4*a*c))/2*a\n",
        "  print(\"solution of quadratic equation  is: \",x , y)\n",
        "\n"
      ],
      "metadata": {
        "colab": {
          "base_uri": "https://localhost:8080/"
        },
        "id": "K4TP5odfCnRT",
        "outputId": "a2933ec7-53f4-4be2-b971-413b26d67a36"
      },
      "execution_count": null,
      "outputs": [
        {
          "output_type": "stream",
          "name": "stdout",
          "text": [
            "Enter the first coefficient of quadratic equation:   3\n",
            "Enter the second coefficient of quadratic equation:   5\n",
            "Enter the third coefficient of quadratic equation:   2\n",
            "1.0\n",
            "solution of quadratic equation  is:  -6.0 3.0\n"
          ]
        }
      ]
    },
    {
      "cell_type": "markdown",
      "source": [
        "5.\tWrite a Python program to swap two variables without temp variable?"
      ],
      "metadata": {
        "id": "C3Q9EBu0U2aJ"
      }
    },
    {
      "cell_type": "code",
      "source": [
        "# swaping\n",
        "x=int(input('Enter first number'))\n",
        "y=int(input('Enter second number'))\n",
        "x , y = y , x\n",
        "print('value of x after swapping is : ',x)\n",
        "print('value of y after swapping is : ',y)"
      ],
      "metadata": {
        "colab": {
          "base_uri": "https://localhost:8080/"
        },
        "id": "RxxicM4RHtSU",
        "outputId": "00ecf6ba-335e-4805-8608-bbc5758dce21"
      },
      "execution_count": null,
      "outputs": [
        {
          "output_type": "stream",
          "name": "stdout",
          "text": [
            "Enter first number23\n",
            "Enter second number1000\n",
            "value of x after swapping is :  1000\n",
            "value of y after swapping is :  23\n"
          ]
        }
      ]
    },
    {
      "cell_type": "code",
      "source": [],
      "metadata": {
        "id": "guRsAPw1Ik_i"
      },
      "execution_count": null,
      "outputs": []
    }
  ]
}