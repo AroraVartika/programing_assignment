{
  "nbformat": 4,
  "nbformat_minor": 0,
  "metadata": {
    "colab": {
      "provenance": []
    },
    "kernelspec": {
      "name": "python3",
      "display_name": "Python 3"
    },
    "language_info": {
      "name": "python"
    }
  },
  "cells": [
    {
      "cell_type": "markdown",
      "source": [
        "1.\tWrite a Python Program to Display Fibonacci Sequence Using Recursion?"
      ],
      "metadata": {
        "id": "2_bxYKBvWk_c"
      }
    },
    {
      "cell_type": "code",
      "source": [
        "def fibo(n):\n",
        "   if n <= 1:\n",
        "       return n\n",
        "   else:\n",
        "       return(fibo(n-1) + fibo(n-2))\n",
        "n = int(input(\"number of terms? \"))\n",
        "if n <= 0:\n",
        "   print(\"Plese enter a positive integer\")\n",
        "else:\n",
        "   print(\"Fibonacci sequence:\")\n",
        "   for i in range(n):\n",
        "       print(fibo(i))"
      ],
      "metadata": {
        "colab": {
          "base_uri": "https://localhost:8080/"
        },
        "id": "mGB9mdtgWo6h",
        "outputId": "af700164-40c9-490e-b56f-05ff5b940cc3"
      },
      "execution_count": null,
      "outputs": [
        {
          "output_type": "stream",
          "name": "stdout",
          "text": [
            "number of terms? 5\n",
            "Fibonacci sequence:\n",
            "0\n",
            "1\n",
            "1\n",
            "2\n",
            "3\n"
          ]
        }
      ]
    },
    {
      "cell_type": "markdown",
      "source": [
        "2.\tWrite a Python Program to Find Factorial of Number Using Recursion?"
      ],
      "metadata": {
        "id": "mkHriDojXEZo"
      }
    },
    {
      "cell_type": "code",
      "source": [
        "def factorial(n):\n",
        "   if n == 1:\n",
        "       return n\n",
        "   else:\n",
        "       return n*factorial(n-1)\n",
        "num = int(input(\"Enter a number: \"))\n",
        "if num < 0:\n",
        "   print(\"factorial does not exist for negative numbers\")\n",
        "elif num == 0:\n",
        "   print(\"The factorial of 0 is 1\")\n",
        "else:\n",
        "   print(\"The factorial of\",num,\"is\",factorial(num))"
      ],
      "metadata": {
        "colab": {
          "base_uri": "https://localhost:8080/"
        },
        "id": "iIVc8khEXGxP",
        "outputId": "bd171253-d0fe-4164-b5c6-cd374987027a"
      },
      "execution_count": null,
      "outputs": [
        {
          "output_type": "stream",
          "name": "stdout",
          "text": [
            "Enter a number: 6\n",
            "The factorial of 6 is 720\n"
          ]
        }
      ]
    },
    {
      "cell_type": "markdown",
      "source": [
        "3.\tWrite a Python Program to calculate your Body Mass Index?"
      ],
      "metadata": {
        "id": "GIYHZZpWXHpY"
      }
    },
    {
      "cell_type": "code",
      "source": [
        "height = float(input(\"Enter the height in cm: \"))\n",
        "weight = float(input(\"Enter the weight in kg: \"))\n",
        "BMI = weight / (height/100)**2\n",
        "print(\"Your Body Mass Index is\", BMI)\n",
        "if BMI <= 18.5:\n",
        "    print(\" You are underweight.\")\n",
        "elif BMI <= 24.9:\n",
        "    print(\" You are healthy.\")\n",
        "elif BMI <= 29.9:\n",
        "    print(\" You are over weight.\")\n",
        "else:\n",
        "    print(\" You are obese.\")"
      ],
      "metadata": {
        "colab": {
          "base_uri": "https://localhost:8080/"
        },
        "id": "O12MuVh2XSbf",
        "outputId": "08f968ef-211a-4443-919c-757b9ca8c204"
      },
      "execution_count": null,
      "outputs": [
        {
          "output_type": "stream",
          "name": "stdout",
          "text": [
            "Enter the height in cm: 162\n",
            "Enter the weight in kg: 65\n",
            "Your Body Mass Index is 24.76756591982929\n",
            " You are healthy.\n"
          ]
        }
      ]
    },
    {
      "cell_type": "markdown",
      "source": [
        "4.\tWrite a Python Program to calculate the natural logarithm of any number?"
      ],
      "metadata": {
        "id": "W1TV0mfhXTMa"
      }
    },
    {
      "cell_type": "code",
      "source": [
        "import math\n",
        "n=int(input(\"Enter the number\"))\n",
        "print (\"Natural logarithm is : \", end=\"\")\n",
        "print (math.log(n))"
      ],
      "metadata": {
        "colab": {
          "base_uri": "https://localhost:8080/"
        },
        "id": "87LX037zXbF6",
        "outputId": "dc39c1c9-f1ba-444f-ced7-49c0bde3cc53"
      },
      "execution_count": null,
      "outputs": [
        {
          "output_type": "stream",
          "name": "stdout",
          "text": [
            "Enter the number2\n",
            "Natural logarithm is : 0.6931471805599453\n"
          ]
        }
      ]
    },
    {
      "cell_type": "markdown",
      "source": [
        "5.\tWrite a Python Program for cube sum of first n natural numbers?"
      ],
      "metadata": {
        "id": "kURCXqJ7XcCb"
      }
    },
    {
      "cell_type": "code",
      "source": [
        "n=int(input(\"Enter the Number: \"))\n",
        "s=0\n",
        "for i in range(1,n+1):\n",
        "    s=s+pow(i,3)\n",
        "print(s)"
      ],
      "metadata": {
        "colab": {
          "base_uri": "https://localhost:8080/"
        },
        "id": "zV6uQj7BXjAf",
        "outputId": "889be3dd-2458-4a22-fb34-6232aaff882a"
      },
      "execution_count": null,
      "outputs": [
        {
          "output_type": "stream",
          "name": "stdout",
          "text": [
            "Enter the Number: 3\n",
            "36\n"
          ]
        }
      ]
    },
    {
      "cell_type": "code",
      "source": [],
      "metadata": {
        "id": "5915yk9xfBQT"
      },
      "execution_count": null,
      "outputs": []
    }
  ]
}