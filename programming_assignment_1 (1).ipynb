{
  "nbformat": 4,
  "nbformat_minor": 0,
  "metadata": {
    "colab": {
      "provenance": []
    },
    "kernelspec": {
      "name": "python3",
      "display_name": "Python 3"
    },
    "language_info": {
      "name": "python"
    }
  },
  "cells": [
    {
      "cell_type": "code",
      "execution_count": null,
      "metadata": {
        "colab": {
          "base_uri": "https://localhost:8080/"
        },
        "id": "rYUBTF-cRa7u",
        "outputId": "22fb2598-b04b-4229-daf0-8c8d694adf6a"
      },
      "outputs": [
        {
          "output_type": "stream",
          "name": "stdout",
          "text": [
            "Hello Python\n"
          ]
        }
      ],
      "source": [
        "print('Hello Python')"
      ]
    },
    {
      "cell_type": "code",
      "source": [
        "a=input('Enter the first number: ')\n",
        "b=input('Enter second number: ')\n",
        "sum=float(a)+float(b)\n",
        "print('addition of two numbers is: ', sum)\n",
        "div=float(a)/float(b)\n",
        "print('divison of two number is: ',div)\n",
        "\n"
      ],
      "metadata": {
        "colab": {
          "base_uri": "https://localhost:8080/"
        },
        "id": "I60N2L9CRypT",
        "outputId": "47948c07-a901-42f0-e8f5-2481cddf1e78"
      },
      "execution_count": null,
      "outputs": [
        {
          "output_type": "stream",
          "name": "stdout",
          "text": [
            "Enter the first number: 20\n",
            "Enter second number: 2\n",
            "addition of two numbers is:  22.0\n",
            "divison of two number is:  10.0\n"
          ]
        }
      ]
    },
    {
      "cell_type": "code",
      "source": [
        "a=float(input('Enter first side'))\n",
        "b=float(input('Enter second side'))\n",
        "c=float(input('Enter third side'))\n",
        "# using heron's formula\n",
        "s=(a+b+c)/2\n",
        "print(s)\n",
        "Area=(s*(s-a)*(s-b)*(s-c))**0.5\n",
        "print('Area of triangle: ', Area)"
      ],
      "metadata": {
        "colab": {
          "base_uri": "https://localhost:8080/"
        },
        "id": "NHA2BxnOS8K6",
        "outputId": "065acdc7-97d7-4b80-81d9-4d67c071f517"
      },
      "execution_count": null,
      "outputs": [
        {
          "output_type": "stream",
          "name": "stdout",
          "text": [
            "Enter first side5\n",
            "Enter second side6\n",
            "Enter third side7\n",
            "9.0\n",
            "Area of triangle:  14.696938456699069\n"
          ]
        }
      ]
    },
    {
      "cell_type": "code",
      "source": [
        "# swapping of varaiables\n",
        "x=2\n",
        "y=4\n",
        "x , y = y ,x\n",
        "print('Value of x: ', x)\n",
        "print('Value of y: ', y)"
      ],
      "metadata": {
        "colab": {
          "base_uri": "https://localhost:8080/"
        },
        "id": "lROk5HBgWlTj",
        "outputId": "5a536514-446a-4d09-f660-13b4640bd17d"
      },
      "execution_count": null,
      "outputs": [
        {
          "output_type": "stream",
          "name": "stdout",
          "text": [
            "Value of x:  4\n",
            "Value of y:  2\n"
          ]
        }
      ]
    },
    {
      "cell_type": "code",
      "source": [
        "#generate random number\n",
        "import random\n",
        "v=random.randint(100,200)\n",
        "print(v)"
      ],
      "metadata": {
        "colab": {
          "base_uri": "https://localhost:8080/"
        },
        "id": "x7YG4YpTYkXz",
        "outputId": "d9271e4a-1e8b-4782-c9fd-935d3ffd4e3f"
      },
      "execution_count": null,
      "outputs": [
        {
          "output_type": "stream",
          "name": "stdout",
          "text": [
            "159\n"
          ]
        }
      ]
    },
    {
      "cell_type": "code",
      "source": [],
      "metadata": {
        "id": "Dsery4onZ1uE"
      },
      "execution_count": null,
      "outputs": []
    }
  ]
}