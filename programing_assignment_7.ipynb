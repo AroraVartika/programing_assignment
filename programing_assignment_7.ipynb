{
  "nbformat": 4,
  "nbformat_minor": 0,
  "metadata": {
    "colab": {
      "provenance": []
    },
    "kernelspec": {
      "name": "python3",
      "display_name": "Python 3"
    },
    "language_info": {
      "name": "python"
    }
  },
  "cells": [
    {
      "cell_type": "markdown",
      "source": [
        "Write a Python Program to find sum of array?"
      ],
      "metadata": {
        "id": "y-soBz27ZAJo"
      }
    },
    {
      "cell_type": "code",
      "source": [
        "arr=[120,340,400,15]\n",
        "s=0\n",
        "for i,a in enumerate(arr):\n",
        "  s=s+a\n",
        "print(s)"
      ],
      "metadata": {
        "colab": {
          "base_uri": "https://localhost:8080/"
        },
        "id": "du5_9rUCJHA6",
        "outputId": "f5756c7a-bea8-4068-d55e-98506fafd465"
      },
      "execution_count": null,
      "outputs": [
        {
          "output_type": "stream",
          "name": "stdout",
          "text": [
            "875\n"
          ]
        }
      ]
    },
    {
      "cell_type": "markdown",
      "source": [
        "2.\tWrite a Python Program to find largest element in an array?"
      ],
      "metadata": {
        "id": "OwNP7ackZFE9"
      }
    },
    {
      "cell_type": "code",
      "source": [
        "a=[100,200,50,1000]\n",
        "max=a[0]\n",
        "for i in range(len(v)):\n",
        "  if a[i]>max:\n",
        "    max=a[i]\n",
        "print(max)"
      ],
      "metadata": {
        "colab": {
          "base_uri": "https://localhost:8080/"
        },
        "id": "AJpRmE01KtZk",
        "outputId": "90a6b6e0-4c59-4397-b305-fb55426c9105"
      },
      "execution_count": null,
      "outputs": [
        {
          "output_type": "stream",
          "name": "stdout",
          "text": [
            "1000\n"
          ]
        }
      ]
    },
    {
      "cell_type": "markdown",
      "source": [
        "3.\tWrite a Python Program for array rotation?"
      ],
      "metadata": {
        "id": "MXcmb8LYZS-8"
      }
    },
    {
      "cell_type": "code",
      "source": [
        "def rotateList(arr,d,n):\n",
        "  arr[:]=arr[d:n]+arr[0:d]\n",
        "  return arr\n",
        "arr = [111, 132, 300, 145,45, 56]\n",
        "print(arr)\n",
        "print(\"Rotated list is\")\n",
        "print(rotateList(arr,2,len(arr)))"
      ],
      "metadata": {
        "colab": {
          "base_uri": "https://localhost:8080/"
        },
        "id": "MefH8W0vZgew",
        "outputId": "1beb84f5-08a2-44ba-c400-0b26dbb6fb92"
      },
      "execution_count": null,
      "outputs": [
        {
          "output_type": "stream",
          "name": "stdout",
          "text": [
            "[111, 132, 300, 145, 45, 56]\n",
            "Rotated list is\n",
            "[300, 145, 45, 56, 111, 132]\n"
          ]
        }
      ]
    },
    {
      "cell_type": "markdown",
      "source": [
        "4.\tWrite a Python Program to Split the array and add the first part to the end?"
      ],
      "metadata": {
        "id": "KierDRgxZhJF"
      }
    },
    {
      "cell_type": "code",
      "source": [
        "def split(arr, n, k):\n",
        "    for i in range(0, k):\n",
        "        x = arr[0]\n",
        "        for j in range(0, n-1):\n",
        "            arr[j] = arr[j + 1]\n",
        "\n",
        "        arr[n-1] = x\n",
        "\n",
        "arr = [212, 510, 505, 69, 520, 365]\n",
        "n = len(arr)\n",
        "position = 2\n",
        "split(arr, n, position)\n",
        "for i in range(0, n):\n",
        "    print(arr[i], end=' ')"
      ],
      "metadata": {
        "colab": {
          "base_uri": "https://localhost:8080/"
        },
        "id": "7XRj5b6KZm6k",
        "outputId": "7f98ee5a-8be0-43a7-feb4-1bbc5d64cf38"
      },
      "execution_count": null,
      "outputs": [
        {
          "output_type": "stream",
          "name": "stdout",
          "text": [
            "505 69 520 365 212 510 "
          ]
        }
      ]
    },
    {
      "cell_type": "markdown",
      "source": [
        "5.\tWrite a Python Program to check if given array is Monotonic?"
      ],
      "metadata": {
        "id": "eJRxMptpZntr"
      }
    },
    {
      "cell_type": "code",
      "source": [
        "def Monotonic(v):\n",
        "    x, y = [], []\n",
        "    x.extend(v)\n",
        "    y.extend(v)\n",
        "    x.sort()\n",
        "    y.sort(reverse=True)\n",
        "    if(x == v or y == v):\n",
        "        return True\n",
        "    return False\n",
        "\n",
        "v = [6, 5, 4, 4]\n",
        "print(Monotonic(v))"
      ],
      "metadata": {
        "colab": {
          "base_uri": "https://localhost:8080/"
        },
        "id": "z1I0NMMEZs55",
        "outputId": "bd67d418-df6a-4a51-afcd-d5a2447f3706"
      },
      "execution_count": null,
      "outputs": [
        {
          "output_type": "stream",
          "name": "stdout",
          "text": [
            "True\n"
          ]
        }
      ]
    },
    {
      "cell_type": "code",
      "source": [],
      "metadata": {
        "id": "4-qu8bYIien7"
      },
      "execution_count": null,
      "outputs": []
    }
  ]
}