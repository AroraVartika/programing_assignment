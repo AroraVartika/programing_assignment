{
  "nbformat": 4,
  "nbformat_minor": 0,
  "metadata": {
    "colab": {
      "provenance": []
    },
    "kernelspec": {
      "name": "python3",
      "display_name": "Python 3"
    },
    "language_info": {
      "name": "python"
    }
  },
  "cells": [
    {
      "cell_type": "markdown",
      "source": [
        "1.\tWrite a Python Program to Find LCM?"
      ],
      "metadata": {
        "id": "uxxMaEf1C8Vo"
      }
    },
    {
      "cell_type": "code",
      "source": [
        "a=int(input(\"Enter the first number:\"))\n",
        "b=int(input(\"Enter the second number:\"))\n",
        "if(a>b):\n",
        "    min1=a\n",
        "else:\n",
        "    min1=b\n",
        "while(1):\n",
        "    if(min1%a==0 and min1%b==0):\n",
        "        print(\"LCM is:\",min1)\n",
        "        break\n",
        "    min1=min1+1"
      ],
      "metadata": {
        "id": "cYoN3-u-DYxb",
        "colab": {
          "base_uri": "https://localhost:8080/"
        },
        "outputId": "892774b8-00c9-47c9-c7f3-0e2525505cd6"
      },
      "execution_count": null,
      "outputs": [
        {
          "output_type": "stream",
          "name": "stdout",
          "text": [
            "Enter the first number:12\n",
            "Enter the second number:6\n",
            "LCM is: 12\n"
          ]
        }
      ]
    },
    {
      "cell_type": "markdown",
      "source": [
        "2.\tWrite a Python Program to Find HCF?"
      ],
      "metadata": {
        "id": "qheoRB33DZyI"
      }
    },
    {
      "cell_type": "code",
      "source": [
        "a=int(input(\"Enter the first number:\"))\n",
        "b=int(input(\"Enter the second number:\"))\n",
        "hcf=1\n",
        "for i in range(1, min(a,b)):\n",
        "  if a%i==0 and b%i==0:\n",
        "    hcf=i\n",
        "print(\"hcf of\",a,\"and\",b,\"is\",hcf)"
      ],
      "metadata": {
        "id": "pe_0IFteDfIl",
        "colab": {
          "base_uri": "https://localhost:8080/"
        },
        "outputId": "48646d20-530e-46cb-9211-2f1b6ae7978b"
      },
      "execution_count": null,
      "outputs": [
        {
          "output_type": "stream",
          "name": "stdout",
          "text": [
            "Enter the first number:36\n",
            "Enter the second number:60\n",
            "hcf of 36 and 60 is 12\n"
          ]
        }
      ]
    },
    {
      "cell_type": "markdown",
      "source": [
        "3.\tWrite a Python Program to Convert Decimal to Binary, Octal and Hexadecimal?"
      ],
      "metadata": {
        "id": "kPbawg3uDhGI"
      }
    },
    {
      "cell_type": "code",
      "source": [
        "def decimal_into_binary(decimal_1):\n",
        "    decimal = int(decimal_1)\n",
        "    print (\"The given decimal number\", decimal, \"in Binary number is: \", bin(decimal))\n",
        "def decimal_into_octal(decimal_1):\n",
        "    decimal = int(decimal_1)\n",
        "    print (\"The given decimal number\", decimal, \"in Octal number is: \", oct(decimal))\n",
        "def decimal_into_hexadecimal(decimal_1):\n",
        "    decimal = int(decimal_1)\n",
        "    print (\"The given decimal number\", decimal, \" in Hexadecimal number is: \", hex(decimal))\n",
        "\n",
        "decimal_1 = int (input (\" Enter the Decimal Number: \"))\n",
        "decimal_into_binary(decimal_1)\n",
        "decimal_into_octal(decimal_1)\n",
        "decimal_into_hexadecimal(decimal_1)"
      ],
      "metadata": {
        "id": "60PoTbn0DqTG",
        "colab": {
          "base_uri": "https://localhost:8080/"
        },
        "outputId": "eb26e164-4ebe-4d10-8076-1c0d2409068a"
      },
      "execution_count": null,
      "outputs": [
        {
          "output_type": "stream",
          "name": "stdout",
          "text": [
            " Enter the Decimal Number: 100\n",
            "The given decimal number 100 in Binary number is:  0b1100100\n",
            "The given decimal number 100 in Octal number is:  0o144\n",
            "The given decimal number 100  in Hexadecimal number is:  0x64\n"
          ]
        }
      ]
    },
    {
      "cell_type": "markdown",
      "source": [
        "4.\tWrite a Python Program To Find ASCII value of a character?"
      ],
      "metadata": {
        "id": "89di8vYDDr6o"
      }
    },
    {
      "cell_type": "code",
      "source": [
        "c = input(\"enter the alphabet\")\n",
        "print(\"The ASCII value of '\" + c + \"' is\", ord(c))"
      ],
      "metadata": {
        "id": "52KTcdqlDxiR",
        "colab": {
          "base_uri": "https://localhost:8080/"
        },
        "outputId": "10985352-41f8-4f1c-84f2-b53a6990fb2b"
      },
      "execution_count": null,
      "outputs": [
        {
          "output_type": "stream",
          "name": "stdout",
          "text": [
            "enter the alphabetv\n",
            "The ASCII value of 'v' is 118\n"
          ]
        }
      ]
    },
    {
      "cell_type": "markdown",
      "source": [
        "5.\tWrite a Python Program to Make a Simple Calculator with 4 basic mathematical operations?"
      ],
      "metadata": {
        "id": "AkCdVzgiDygA"
      }
    },
    {
      "cell_type": "code",
      "source": [
        "def add(P, Q):\n",
        "   # This function is used for adding two numbers\n",
        "   return P + Q\n",
        "def subtract(P, Q):\n",
        "   # This function is used for subtracting two numbers\n",
        "   return P - Q\n",
        "def multiply(P, Q):\n",
        "   # This function is used for multiplying two numbers\n",
        "   return P * Q\n",
        "def divide(P, Q):\n",
        "   # This function is used for dividing two numbers\n",
        "   return P / Q\n",
        "# Now we will take inputs from the user\n",
        "print (\"Please select the operation.\")\n",
        "print (\"a. Add\")\n",
        "print (\"b. Subtract\")\n",
        "print (\"c. Multiply\")\n",
        "print (\"d. Divide\")\n",
        "\n",
        "choice = input(\"Please enter choice (a/ b/ c/ d): \")\n",
        "\n",
        "num_1 = int (input (\"Please enter the first number: \"))\n",
        "num_2 = int (input (\"Please enter the second number: \"))\n",
        "\n",
        "if choice == 'a':\n",
        "   print (num_1, \" + \", num_2, \" = \", add(num_1, num_2))\n",
        "\n",
        "elif choice == 'b':\n",
        "   print (num_1, \" - \", num_2, \" = \", subtract(num_1, num_2))\n",
        "\n",
        "elif choice == 'c':\n",
        "   print (num_1, \" * \", num_2, \" = \", multiply(num_1, num_2))\n",
        "elif choice == 'd':\n",
        "   print (num_1, \" / \", num_2, \" = \", divide(num_1, num_2))\n",
        "else:\n",
        "   print (\"This is an invalid input\")"
      ],
      "metadata": {
        "colab": {
          "base_uri": "https://localhost:8080/"
        },
        "id": "O_VZ2nuZlHFm",
        "outputId": "83cd7824-968e-4d01-ac46-2bd230b693ff"
      },
      "execution_count": null,
      "outputs": [
        {
          "output_type": "stream",
          "name": "stdout",
          "text": [
            "Please select the operation.\n",
            "a. Add\n",
            "b. Subtract\n",
            "c. Multiply\n",
            "d. Divide\n",
            "Please enter choice (a/ b/ c/ d): c\n",
            "Please enter the first number: 25\n",
            "Please enter the second number: 25\n",
            "25  *  25  =  625\n"
          ]
        }
      ]
    },
    {
      "cell_type": "code",
      "source": [],
      "metadata": {
        "id": "58YRhO7slwdT"
      },
      "execution_count": null,
      "outputs": []
    }
  ]
}