{
  "nbformat": 4,
  "nbformat_minor": 0,
  "metadata": {
    "colab": {
      "provenance": []
    },
    "kernelspec": {
      "name": "python3",
      "display_name": "Python 3"
    },
    "language_info": {
      "name": "python"
    }
  },
  "cells": [
    {
      "cell_type": "markdown",
      "source": [
        "1 Write a Python Program to Add Two Matrices?"
      ],
      "metadata": {
        "id": "zFoLOQo6nisb"
      }
    },
    {
      "cell_type": "code",
      "source": [
        "import numpy as np\n",
        "\n",
        "X = [[1,2,3],\n",
        "    [4 ,5,6],\n",
        "    [7 ,8,9]]\n",
        "\n",
        "Y = [[9,8,7],\n",
        "    [6,5,4],\n",
        "    [3,2,1]]\n",
        "\n",
        "result = np.array(X) + np.array(Y)\n",
        "\n",
        "print(result)"
      ],
      "metadata": {
        "colab": {
          "base_uri": "https://localhost:8080/"
        },
        "id": "V-IEZdrqnjU_",
        "outputId": "dcf32937-f2d3-4612-cf1a-b155d931cff3"
      },
      "execution_count": null,
      "outputs": [
        {
          "output_type": "stream",
          "name": "stdout",
          "text": [
            "[[10 10 10]\n",
            " [10 10 10]\n",
            " [10 10 10]]\n"
          ]
        }
      ]
    },
    {
      "cell_type": "markdown",
      "source": [
        "2. Write a Python Program to Multiply Two Matrices?"
      ],
      "metadata": {
        "id": "eKtZkdqip3JU"
      }
    },
    {
      "cell_type": "code",
      "source": [
        "A = [[5, 4, 3],\n",
        "         [2, 4, 6],\n",
        "         [4, 7, 9]]\n",
        "B = [[3, 2, 4],\n",
        "         [4, 3, 6],\n",
        "         [2, 7, 5]]\n",
        "\n",
        "Result = [[sum(a * b for a, b in zip(Arow, Bcol))\n",
        "                       for Bcol in zip(*B)]\n",
        "                                for Arow in A]\n",
        "# Printing multiplication result in the output\n",
        "print(\"The multiplication result of matrix A and B is: \")\n",
        "for res in Result:\n",
        "    print(res)"
      ],
      "metadata": {
        "colab": {
          "base_uri": "https://localhost:8080/"
        },
        "id": "E8GVcy9Jp4J_",
        "outputId": "f1e484b1-9e9f-4872-ee7d-3a39f09efad3"
      },
      "execution_count": null,
      "outputs": [
        {
          "output_type": "stream",
          "name": "stdout",
          "text": [
            "The multiplication result of matrix A and B is: \n",
            "[37, 43, 59]\n",
            "[34, 58, 62]\n",
            "[58, 92, 103]\n"
          ]
        }
      ]
    },
    {
      "cell_type": "markdown",
      "source": [
        "3. Write a Python Program to Transpose a Matrix?"
      ],
      "metadata": {
        "id": "RiS52wUPrwMw"
      }
    },
    {
      "cell_type": "code",
      "source": [
        "N = 4\n",
        "\n",
        "def transpose(A):\n",
        "\n",
        " for i in range(N):\n",
        "  for j in range(i+1, N):\n",
        "   A[i][j], A[j][i] = A[j][i], A[i][j]\n",
        "\n",
        "\n",
        "A = [ [1, 1, 1, 1],\n",
        " [2, 2, 2, 2],\n",
        " [3, 3, 3, 3],\n",
        " [4, 4, 4, 4]]\n",
        "\n",
        "transpose(A)\n",
        "\n",
        "print(\"Modified matrix is\")\n",
        "for i in range(N):\n",
        " for j in range(N):\n",
        "  print(A[i][j], \" \", end='')\n",
        " print()\n",
        ""
      ],
      "metadata": {
        "colab": {
          "base_uri": "https://localhost:8080/"
        },
        "id": "BhgUEHZHrwlr",
        "outputId": "bd780bdf-440a-4c18-918f-4a998e321754"
      },
      "execution_count": null,
      "outputs": [
        {
          "output_type": "stream",
          "name": "stdout",
          "text": [
            "Modified matrix is\n",
            "1  2  3  4  \n",
            "1  2  3  4  \n",
            "1  2  3  4  \n",
            "1  2  3  4  \n"
          ]
        }
      ]
    },
    {
      "cell_type": "markdown",
      "source": [
        "4. Write a Python Program to Sort Words in Alphabetic Order?"
      ],
      "metadata": {
        "id": "_IGv92JfrxDC"
      }
    },
    {
      "cell_type": "code",
      "source": [
        "def F(S):\n",
        "    W = S.split(\" \")\n",
        "    for i in range(len(W)):\n",
        "        W[i] = W[i].lower()\n",
        "    W.sort()\n",
        "\n",
        "    return ' '.join(W)\n",
        "\n",
        "S = \"Vartika Arora\"\n",
        "print(F(S))"
      ],
      "metadata": {
        "colab": {
          "base_uri": "https://localhost:8080/"
        },
        "id": "eKkqxwi2rxYp",
        "outputId": "b5e57da6-e64e-4c35-f672-0a0f6d00960a"
      },
      "execution_count": null,
      "outputs": [
        {
          "output_type": "stream",
          "name": "stdout",
          "text": [
            "arora vartika\n"
          ]
        }
      ]
    },
    {
      "cell_type": "markdown",
      "source": [
        "5. Write a Python Program to Remove Punctuation From a String?"
      ],
      "metadata": {
        "id": "p-5RLhJSrxsh"
      }
    },
    {
      "cell_type": "code",
      "source": [
        "def remove_punctuation(test_str):\n",
        "\n",
        "  result = ''.join(filter(lambda x: x.isalpha() or x.isdigit() or x.isspace(), test_str))\n",
        "  return result\n",
        "\n",
        "test_str = \"ineuron, is best : for ! Data science ;\"\n",
        "print(\"The original string is : \" + test_str)\n",
        "\n",
        "result = remove_punctuation(test_str)\n",
        "print(\"The string after punctuation filter : \" + result)"
      ],
      "metadata": {
        "colab": {
          "base_uri": "https://localhost:8080/"
        },
        "id": "MqDBMEzfv408",
        "outputId": "764aa4dd-941f-4588-e7a9-976dd24a6f1c"
      },
      "execution_count": null,
      "outputs": [
        {
          "output_type": "stream",
          "name": "stdout",
          "text": [
            "The original string is : ineuron, is best : for ! Data science ;\n",
            "The string after punctuation filter : ineuron is best  for  Data science \n"
          ]
        }
      ]
    },
    {
      "cell_type": "code",
      "source": [],
      "metadata": {
        "id": "P34Lcv6mwrqx"
      },
      "execution_count": null,
      "outputs": []
    }
  ]
}