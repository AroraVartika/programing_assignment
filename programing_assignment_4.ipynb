{
  "nbformat": 4,
  "nbformat_minor": 0,
  "metadata": {
    "colab": {
      "provenance": []
    },
    "kernelspec": {
      "name": "python3",
      "display_name": "Python 3"
    },
    "language_info": {
      "name": "python"
    }
  },
  "cells": [
    {
      "cell_type": "markdown",
      "source": [
        "1.\tWrite a Python Program to Find the Factorial of a Number?"
      ],
      "metadata": {
        "id": "1DLSoqnxZaDL"
      }
    },
    {
      "cell_type": "code",
      "source": [
        "num = int(input(\"Enter a number: \"))\n",
        "factorial = 1\n",
        "if num < 0:\n",
        "   print(\" Factorial does not exist for negative numbers\")\n",
        "elif num == 0:\n",
        "   print(\"The factorial of 0 is 1\")\n",
        "else:\n",
        "   for i in range(1,num + 1):\n",
        "       factorial = factorial*i\n",
        "   print(\"The factorial of\",num,\"is\",factorial)"
      ],
      "metadata": {
        "colab": {
          "base_uri": "https://localhost:8080/"
        },
        "id": "0WCpCILtZgeN",
        "outputId": "8e671fb9-0825-45e1-a49c-6ec1bb9c7ab1"
      },
      "execution_count": null,
      "outputs": [
        {
          "output_type": "stream",
          "name": "stdout",
          "text": [
            "Enter a number: 5\n",
            "The factorial of 5 is 120\n"
          ]
        }
      ]
    },
    {
      "cell_type": "markdown",
      "source": [
        "2.\tWrite a Python Program to Display the multiplication Table?"
      ],
      "metadata": {
        "id": "Cn-jl9ASZhnS"
      }
    },
    {
      "cell_type": "code",
      "source": [
        "num = int(input (\"Enter the number to display multiplication table: \"))\n",
        "print (\"The Multiplication Table of: \", num)\n",
        "for count in range(1, 11):\n",
        "   print (num, 'x', count, '=', num * count)"
      ],
      "metadata": {
        "colab": {
          "base_uri": "https://localhost:8080/"
        },
        "id": "9soFNEumZmOO",
        "outputId": "265701e1-0d19-48b4-9761-88040c8e9089"
      },
      "execution_count": null,
      "outputs": [
        {
          "output_type": "stream",
          "name": "stdout",
          "text": [
            "Enter the number to display multiplication table: 5\n",
            "The Multiplication Table of:  5\n",
            "5 x 1 = 5\n",
            "5 x 2 = 10\n",
            "5 x 3 = 15\n",
            "5 x 4 = 20\n",
            "5 x 5 = 25\n",
            "5 x 6 = 30\n",
            "5 x 7 = 35\n",
            "5 x 8 = 40\n",
            "5 x 9 = 45\n",
            "5 x 10 = 50\n"
          ]
        }
      ]
    },
    {
      "cell_type": "markdown",
      "source": [
        "3.\tWrite a Python Program to Print the Fibonacci sequence?"
      ],
      "metadata": {
        "id": "PT27nnqoZnHo"
      }
    },
    {
      "cell_type": "code",
      "source": [
        "n = int(input(\"number of terms? \"))\n",
        "n1, n2 = 0, 1\n",
        "count = 0\n",
        "if n <= 0:\n",
        "   print(\"Please enter a positive integer\")\n",
        "elif n == 1:\n",
        "   print(\"Fibonacci sequence upto\",n,\":\")\n",
        "   print(n1)\n",
        "else:\n",
        "   print(\"Fibonacci sequence:\")\n",
        "   while count < n:\n",
        "       print(n1)\n",
        "       nth = n1 + n2\n",
        "       n1 = n2\n",
        "       n2 = nth\n",
        "       count = count + 1"
      ],
      "metadata": {
        "colab": {
          "base_uri": "https://localhost:8080/"
        },
        "id": "JUhs5OtFZrLF",
        "outputId": "e1b74d0e-2950-4d6c-f639-65f31a13eaec"
      },
      "execution_count": null,
      "outputs": [
        {
          "output_type": "stream",
          "name": "stdout",
          "text": [
            "number of terms? 7\n",
            "Fibonacci sequence:\n",
            "0\n",
            "1\n",
            "1\n",
            "2\n",
            "3\n",
            "5\n",
            "8\n"
          ]
        }
      ]
    },
    {
      "cell_type": "markdown",
      "source": [
        "4.\tWrite a Python Program to Check Armstrong Number?"
      ],
      "metadata": {
        "id": "BZMdjBAcZsQ-"
      }
    },
    {
      "cell_type": "code",
      "source": [
        "a=int(input('Enter any 3-digit number : '))\n",
        "num=a\n",
        "sum=0\n",
        "while num>0:\n",
        "  A=num%10\n",
        "  sum=sum+(A*A*A)\n",
        "  num=num//10\n",
        "if sum==a:\n",
        "  print(\"Armstrong\")\n",
        "else:\n",
        "  print(\"not an armstrong\")\n",
        "\n"
      ],
      "metadata": {
        "colab": {
          "base_uri": "https://localhost:8080/"
        },
        "id": "gouUNxvvZw9w",
        "outputId": "514f4929-efd5-4ccd-b663-17fdf03a2a41"
      },
      "execution_count": null,
      "outputs": [
        {
          "output_type": "stream",
          "name": "stdout",
          "text": [
            "Enter any 3-digit number : 153\n",
            "Armstrong\n"
          ]
        }
      ]
    },
    {
      "cell_type": "markdown",
      "source": [
        "5.\tWrite a Python Program to Find Armstrong Number in an Interval?"
      ],
      "metadata": {
        "id": "zaxLUPZrZyFF"
      }
    },
    {
      "cell_type": "code",
      "source": [
        "a=int(input('Enter lower rnge : '))\n",
        "b=int(input('Enter upper rnge : '))\n",
        "for i in range(a,b+1):\n",
        "  temp=i\n",
        "  sum=0\n",
        "  while temp>0:\n",
        "    A=temp%10\n",
        "    sum=sum+(A*A*A)\n",
        "    temp=temp//10\n",
        "    if sum==i:\n",
        "      print(i)\n"
      ],
      "metadata": {
        "colab": {
          "base_uri": "https://localhost:8080/"
        },
        "id": "3JMs_-O_Z4xe",
        "outputId": "ba92509d-0f37-4cc7-844b-606120af0778"
      },
      "execution_count": null,
      "outputs": [
        {
          "output_type": "stream",
          "name": "stdout",
          "text": [
            "Enter lower rnge : 100\n",
            "Enter upper rnge : 400\n",
            "125\n",
            "153\n",
            "216\n",
            "370\n",
            "371\n"
          ]
        }
      ]
    },
    {
      "cell_type": "markdown",
      "source": [
        "6.\tWrite a Python Program to Find the Sum of Natural Numbers?"
      ],
      "metadata": {
        "id": "CijqxDCVZ58s"
      }
    },
    {
      "cell_type": "code",
      "source": [
        "v=int(input(\"Enter the number \"))\n",
        "sum=0\n",
        "while(v>0):\n",
        "  sum=sum+v\n",
        "  v=v-1\n",
        "print(\"Sum of Natural Numbers is_ \",sum)"
      ],
      "metadata": {
        "colab": {
          "base_uri": "https://localhost:8080/"
        },
        "id": "y-579ByUaAJj",
        "outputId": "9ae78075-a667-4fef-d725-1e5f1b58b975"
      },
      "execution_count": null,
      "outputs": [
        {
          "output_type": "stream",
          "name": "stdout",
          "text": [
            "Enter the number 5\n",
            "Sum of Natural Numbers is_  15\n"
          ]
        }
      ]
    },
    {
      "cell_type": "code",
      "source": [],
      "metadata": {
        "id": "N_Emmsuw9elW"
      },
      "execution_count": null,
      "outputs": []
    }
  ]
}