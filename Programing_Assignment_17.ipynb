{
  "nbformat": 4,
  "nbformat_minor": 0,
  "metadata": {
    "colab": {
      "provenance": []
    },
    "kernelspec": {
      "name": "python3",
      "display_name": "Python 3"
    },
    "language_info": {
      "name": "python"
    }
  },
  "cells": [
    {
      "cell_type": "markdown",
      "source": [
        "Question1.\n",
        "Create a function that takes three arguments a, b, c and returns the sum of the\n",
        "numbers that are evenly divided by c from the range a, b inclusive.\n",
        "Examples\n",
        "evenly_divisible(1, 10, 20) ➞ 0\n",
        "# No number between 1 and 10 can be evenly divided by 20.\n",
        "evenly_divisible(1, 10, 2) ➞ 30\n",
        "# 2 + 4 + 6 + 8 + 10 = 30\n",
        "evenly_divisible(1, 10, 3) ➞ 18\n",
        "# 3 + 6 + 9 = 18"
      ],
      "metadata": {
        "id": "ThqWb3hsrvVa"
      }
    },
    {
      "cell_type": "code",
      "source": [
        "def sumDivisibles(a, b, c):\n",
        "    sum = 0\n",
        "    for i in range(a, b + 1):\n",
        "        if (i % c == 0):\n",
        "            sum += i\n",
        "    return sum\n",
        "a = int(input('Enter a : '))\n",
        "b = int(input('Enter b : '))\n",
        "c = int(input('Enter c : '))\n",
        "print(sumDivisibles(a, b, c))"
      ],
      "metadata": {
        "colab": {
          "base_uri": "https://localhost:8080/"
        },
        "id": "fBYMZRzIrvwR",
        "outputId": "f782c692-7073-4459-b56b-e3a81fa9f980"
      },
      "execution_count": null,
      "outputs": [
        {
          "output_type": "stream",
          "name": "stdout",
          "text": [
            "Enter a : 1\n",
            "Enter b : 10\n",
            "Enter c : 3\n",
            "18\n"
          ]
        }
      ]
    },
    {
      "cell_type": "markdown",
      "source": [
        "Question2.\n",
        "Create a function that returns True if a given inequality expression is correct and\n",
        "False otherwise.\n",
        "Examples\n",
        "correct_signs(\"3 > 7 < 11\") ➞ True\n",
        "correct_signs(\"13 > 44 > 33 > 1\") ➞ False\n",
        "correct_signs(\"1 < 2 < 6 < 9 > 3\") ➞ True\n"
      ],
      "metadata": {
        "id": "jJ0AXnOJrv_f"
      }
    },
    {
      "cell_type": "code",
      "source": [
        "def correct_signs ( txt ) :\n",
        "    return eval ( txt )\n",
        "print(correct_signs(\"3 > 7 < 11\"))\n",
        "print(correct_signs(\"13 > 44 > 33 > 1\"))\n",
        "print(correct_signs(\"1 < 2 < 6 < 9 > 3\"))"
      ],
      "metadata": {
        "colab": {
          "base_uri": "https://localhost:8080/"
        },
        "id": "i4jc4So8rwRd",
        "outputId": "ff3f1855-24f5-4ce9-8747-e84e91e5f2ed"
      },
      "execution_count": null,
      "outputs": [
        {
          "output_type": "stream",
          "name": "stdout",
          "text": [
            "False\n",
            "False\n",
            "True\n"
          ]
        }
      ]
    },
    {
      "cell_type": "markdown",
      "source": [
        "Question3.\n",
        "Create a function that replaces all the vowels in a string with a specified character.\n",
        "Examples\n",
        "replace_vowels('the aardvark, '#') ➞ 'th# ##rdv#rk'\n",
        "replace_vowels('minnie mouse', '?') ➞ 'm?nn?? m??s?'\n",
        "replace_vowels('shakespeare', '*') ➞ 'sh*k*sp**r*'\n"
      ],
      "metadata": {
        "id": "cxBU3_YFrwh_"
      }
    },
    {
      "cell_type": "code",
      "source": [
        "def replace_vowels(str, s):\n",
        "    vowels = 'AEIOUaeiou'\n",
        "    for ele in vowels:\n",
        "        str = str.replace(ele, s)\n",
        "    return str\n",
        "\n",
        "input_str = input(\"enter a string : \")\n",
        "s = input(\"enter a vowel replacing string : \")\n",
        "print(\"\\nGiven Sting:\", input_str)\n",
        "print(\"Given Specified Character:\", s)\n",
        "print(\"Afer replacing vowels with the specified character:\",replace_vowels(input_str, s))"
      ],
      "metadata": {
        "colab": {
          "base_uri": "https://localhost:8080/"
        },
        "id": "Za0KS4KZrwyr",
        "outputId": "9e822160-7ee1-4df3-ee10-8c639c6d6705"
      },
      "execution_count": null,
      "outputs": [
        {
          "output_type": "stream",
          "name": "stdout",
          "text": [
            "enter a string : vartika\n",
            "enter a vowel replacing string : @\n",
            "\n",
            "Given Sting: vartika\n",
            "Given Specified Character: @\n",
            "Afer replacing vowels with the specified character: v@rt@k@\n"
          ]
        }
      ]
    },
    {
      "cell_type": "markdown",
      "source": [
        "Question4.\n",
        "Write a function that calculates the factorial of a number recursively.\n",
        "Examples\n",
        "factorial(5) ➞ 120\n",
        "factorial(3) ➞ 6\n",
        "factorial(1) ➞ 1\n",
        "factorial(0) ➞ 1"
      ],
      "metadata": {
        "id": "B2RRKQqPrxC2"
      }
    },
    {
      "cell_type": "code",
      "source": [
        "def factorial(n):\n",
        "    if n == 0:\n",
        "        return 1\n",
        "    return n * factorial(n-1)\n",
        "\n",
        "num = int(input('enter a number :'))\n",
        "print(\"Factorial of\", num, \"is\", factorial(num))"
      ],
      "metadata": {
        "colab": {
          "base_uri": "https://localhost:8080/"
        },
        "id": "vRdmShOWrxSA",
        "outputId": "bba83a28-4aa7-4524-8586-f550bd84493d"
      },
      "execution_count": null,
      "outputs": [
        {
          "output_type": "stream",
          "name": "stdout",
          "text": [
            "enter a number :5\n",
            "Factorial of 5 is 120\n"
          ]
        }
      ]
    },
    {
      "cell_type": "markdown",
      "source": [
        "Question 5\n",
        "Hamming distance is the number of characters that differ between two strings.\n",
        "To illustrate:\n",
        "String1: 'abcbba'\n",
        "String2: 'abcbda'\n",
        "Hamming Distance: 1 - 'b' vs. 'd' is the only difference.\n",
        "Create a function that computes the hamming distance between two strings.\n",
        "Examples\n",
        "hamming_distance('abcde', 'bcdef') ➞ 5\n",
        "hamming_distance('abcde', 'abcde') ➞ 0\n",
        "hamming_distance('strong', 'strung') ➞ 1"
      ],
      "metadata": {
        "id": "yeTyc2mjrxhx"
      }
    },
    {
      "cell_type": "code",
      "source": [
        "def hamming_distance(str1, str2):\n",
        "    i = 0\n",
        "    count = 0\n",
        "\n",
        "    while(i < len(str1)):\n",
        "        if(str1[i] != str2[i]):\n",
        "            count += 1\n",
        "        i += 1\n",
        "    return count\n",
        "\n",
        "# Driver code\n",
        "str1 = \"abcde\"\n",
        "str2 = \"bcdef\"\n",
        "\n",
        "# function call\n",
        "print(hamming_distance(str1, str2))"
      ],
      "metadata": {
        "colab": {
          "base_uri": "https://localhost:8080/"
        },
        "id": "r_E6vKgbrx0l",
        "outputId": "9b57e906-6683-4fbc-994c-2392dd6b5a36"
      },
      "execution_count": null,
      "outputs": [
        {
          "output_type": "stream",
          "name": "stdout",
          "text": [
            "5\n"
          ]
        }
      ]
    },
    {
      "cell_type": "code",
      "source": [
        "print(hamming_distance('strong', 'strung'))"
      ],
      "metadata": {
        "colab": {
          "base_uri": "https://localhost:8080/"
        },
        "id": "tx_OBLeAryQ5",
        "outputId": "cdee4f2b-a8e4-4b50-9e25-e09c1fb8698d"
      },
      "execution_count": null,
      "outputs": [
        {
          "output_type": "stream",
          "name": "stdout",
          "text": [
            "1\n"
          ]
        }
      ]
    },
    {
      "cell_type": "code",
      "source": [
        "hamming_distance('abcde', 'abcde')"
      ],
      "metadata": {
        "id": "z1fhdUiGtLxh",
        "outputId": "71d32fd7-46c0-447d-b44f-fa74fd2ad6a8",
        "colab": {
          "base_uri": "https://localhost:8080/"
        }
      },
      "execution_count": null,
      "outputs": [
        {
          "output_type": "execute_result",
          "data": {
            "text/plain": [
              "0"
            ]
          },
          "metadata": {},
          "execution_count": 7
        }
      ]
    }
  ]
}