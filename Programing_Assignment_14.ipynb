{
  "nbformat": 4,
  "nbformat_minor": 0,
  "metadata": {
    "colab": {
      "provenance": []
    },
    "kernelspec": {
      "name": "python3",
      "display_name": "Python 3"
    },
    "language_info": {
      "name": "python"
    }
  },
  "cells": [
    {
      "cell_type": "markdown",
      "source": [
        "Question 1:\n",
        "Define a class with a generator which can iterate the numbers, which are divisible by\n",
        "7, between a given range 0 and n."
      ],
      "metadata": {
        "id": "lDFiHQ9yMqCZ"
      }
    },
    {
      "cell_type": "code",
      "source": [
        "def result(N):\n",
        "\n",
        "    for num in range(N):\n",
        "\n",
        "            if num % 7 == 0:\n",
        "                print(str(num) + \" \", end = \"\")\n",
        "\n",
        "            else:\n",
        "                pass\n",
        "\n",
        "if __name__ == \"__main__\":\n",
        "\n",
        "    N = int(input('enter the range: '))\n",
        "\n",
        "    result(N)"
      ],
      "metadata": {
        "colab": {
          "base_uri": "https://localhost:8080/"
        },
        "id": "itCq412bMqZi",
        "outputId": "b6bf47b9-72fe-48cb-ba3d-8d0527c98bc2"
      },
      "execution_count": null,
      "outputs": [
        {
          "output_type": "stream",
          "name": "stdout",
          "text": [
            "enter the range: 20\n",
            "0 7 14 "
          ]
        }
      ]
    },
    {
      "cell_type": "markdown",
      "source": [
        "Question 2:\n",
        "Write a program to compute the frequency of the words from the input. The output\n",
        "should output after sorting the key alphanumerically.\n",
        "Suppose the following input is supplied to the program:\n",
        "New to Python or choosing between Python 2 and Python 3? Read Python 2 or\n",
        "Python 3.\n",
        "Then, the output should be:\n",
        "2:2\n",
        "3.:1\n",
        "3?:1\n",
        "New:1\n",
        "Python:5\n",
        "Read:1\n",
        "and:1\n",
        "between:1\n",
        "choosing:1\n",
        "or:2\n",
        "to:1"
      ],
      "metadata": {
        "id": "hFIZyF7cMqtK"
      }
    },
    {
      "cell_type": "code",
      "source": [
        "def freq(str):\n",
        "\n",
        "    str_list = str.split()\n",
        "\n",
        "    unique_words = set(str_list)\n",
        "\n",
        "    for words in unique_words :\n",
        "        print('Frequency of ', words , 'is :', str_list.count(words))\n",
        "\n",
        "if __name__ == \"__main__\":\n",
        "\n",
        "    str ='apple mango apple orange orange apple guava mango mango'\n",
        "\n",
        "    freq(str)"
      ],
      "metadata": {
        "colab": {
          "base_uri": "https://localhost:8080/"
        },
        "id": "Bb3KSUlFMrGB",
        "outputId": "59228496-fab6-451b-d896-3d5860e0b743"
      },
      "execution_count": null,
      "outputs": [
        {
          "output_type": "stream",
          "name": "stdout",
          "text": [
            "Frequency of  orange is : 2\n",
            "Frequency of  guava is : 1\n",
            "Frequency of  apple is : 3\n",
            "Frequency of  mango is : 3\n"
          ]
        }
      ]
    },
    {
      "cell_type": "markdown",
      "source": [
        "Question 3:\n",
        "\n",
        "Define a class Person and its two child classes: Male and Female. All classes have a\n",
        "method &quot;getGender&quot; which can print &quot;Male&quot; for Male class and &quot;Female&quot; for Female class"
      ],
      "metadata": {
        "id": "EQWqoKDcpFs9"
      }
    },
    {
      "cell_type": "code",
      "source": [
        "class Person(object):\n",
        "    def getGender( self ):\n",
        "        return \"Unknown\"\n",
        "\n",
        "class Male( Person ):\n",
        "    def getGender( self ):\n",
        "        return \"Male\"\n",
        "\n",
        "class Female( Person ):\n",
        "    def getGender( self ):\n",
        "        return \"Female\"\n",
        "\n",
        "aMale = Male()\n",
        "aFemale= Female()\n",
        "print(aMale.getGender())\n",
        "print(aFemale.getGender())\n"
      ],
      "metadata": {
        "colab": {
          "base_uri": "https://localhost:8080/"
        },
        "id": "_Va4p_Q-rhpF",
        "outputId": "e3338d23-3258-4d14-d6c0-34d393a217a5"
      },
      "execution_count": null,
      "outputs": [
        {
          "output_type": "stream",
          "name": "stdout",
          "text": [
            "Male\n",
            "Female\n"
          ]
        }
      ]
    },
    {
      "cell_type": "markdown",
      "source": [
        "Question 4:\n",
        "Please write a program to generate all sentences where subject is in [&quot;I&quot;, &quot;You&quot;] and\n",
        "verb is in [&quot;Play&quot;, &quot;Love&quot;] and the object is in [&quot;Hockey&quot;,&quot;Football&quot;]."
      ],
      "metadata": {
        "id": "PDrcHuOCpGrv"
      }
    },
    {
      "cell_type": "code",
      "source": [
        "def generate_sentences(subjects,verbs,objects):\n",
        "\tlist=[]\n",
        "\tfor i in subjects:\n",
        "\t    for j in verbs:\n",
        "\t        for k in objects:\n",
        "\t            list.append(i+\" \"+j+\" \"+k)\n",
        "\treturn list\n",
        "\n",
        "subjects=[\"I\",\"You\"]\n",
        "verbs=[\"love\", \"play\"]\n",
        "objects=[\"Hockey\",\"Football\"]\n",
        "print(generate_sentences(subjects,verbs,objects))\n"
      ],
      "metadata": {
        "colab": {
          "base_uri": "https://localhost:8080/"
        },
        "id": "swn0gwv4pHCp",
        "outputId": "77bbb9c6-6b19-4521-d463-6ce0e1dbe4bf"
      },
      "execution_count": null,
      "outputs": [
        {
          "output_type": "stream",
          "name": "stdout",
          "text": [
            "['I love Hockey', 'I love Football', 'I play Hockey', 'I play Football', 'You love Hockey', 'You love Football', 'You play Hockey', 'You play Football']\n"
          ]
        }
      ]
    },
    {
      "cell_type": "markdown",
      "source": [
        "Question 5:\n",
        "Please write a program to compress and decompress the string &quot;hello world!hello\n",
        "world!hello world!hello world!&quot;."
      ],
      "metadata": {
        "id": "lwzRTJxWr6DO"
      }
    },
    {
      "cell_type": "code",
      "source": [
        "import gzip\n",
        "s = b\"hello world!hello world!hello world!hello world!\"\n",
        "s = gzip.compress(s)\n",
        "\n",
        "t = gzip.decompress(s)\n",
        "print(t)"
      ],
      "metadata": {
        "colab": {
          "base_uri": "https://localhost:8080/"
        },
        "id": "2PxW5fODr6rH",
        "outputId": "f270c889-7677-434e-817e-a8dc205a121d"
      },
      "execution_count": null,
      "outputs": [
        {
          "output_type": "stream",
          "name": "stdout",
          "text": [
            "b'hello world!hello world!hello world!hello world!'\n"
          ]
        }
      ]
    },
    {
      "cell_type": "markdown",
      "source": [
        "Question 6:\n",
        "Please write a binary search function which searches an item in a sorted list. The\n",
        "function should return the index of element to be searched in the list."
      ],
      "metadata": {
        "id": "q1YTutqgr7Hp"
      }
    },
    {
      "cell_type": "code",
      "source": [
        "from bisect import bisect_right\n",
        "\n",
        "def BinarySearch(a, x):\n",
        "    i = bisect_right(a, x)\n",
        "    if i != 0 and a[i-1] == x:\n",
        "        return (i-1)\n",
        "    else:\n",
        "        return -1\n",
        "\n",
        "a  = [1, 2, 4, 4]\n",
        "x = int(4)\n",
        "res = BinarySearch(a, x)\n",
        "if res == -1:\n",
        "    print(x, \"is absent\")\n",
        "else:\n",
        "    print(\"Last occurrence of\", x, \"is present at\", res)"
      ],
      "metadata": {
        "colab": {
          "base_uri": "https://localhost:8080/"
        },
        "id": "sqCYyBlhr7fM",
        "outputId": "330e9857-c75b-48ad-d5ed-ff2a5ab08a80"
      },
      "execution_count": null,
      "outputs": [
        {
          "output_type": "stream",
          "name": "stdout",
          "text": [
            "Last occurrence of 4 is present at 3\n"
          ]
        }
      ]
    },
    {
      "cell_type": "code",
      "source": [],
      "metadata": {
        "id": "nwZr3Z97wUAU"
      },
      "execution_count": null,
      "outputs": []
    }
  ]
}