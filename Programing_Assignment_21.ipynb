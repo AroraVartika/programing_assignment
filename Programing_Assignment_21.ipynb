{
  "nbformat": 4,
  "nbformat_minor": 0,
  "metadata": {
    "colab": {
      "provenance": []
    },
    "kernelspec": {
      "name": "python3",
      "display_name": "Python 3"
    },
    "language_info": {
      "name": "python"
    }
  },
  "cells": [
    {
      "cell_type": "markdown",
      "source": [
        "Question1\n",
        "Write a function that takes a list and a number as arguments. Add the number to the end of\n",
        "the list, then remove the first element of the list. The function should then return the updated\n",
        "list.\n",
        "Examples\n",
        "next_in_line([5, 6, 7, 8, 9], 1) ➞ [6, 7, 8, 9, 1]\n",
        "next_in_line([7, 6, 3, 23, 17], 10) ➞ [6, 3, 23, 17, 10]\n",
        "next_in_line([1, 10, 20, 42 ], 6) ➞ [10, 20, 42, 6]\n",
        "next_in_line([], 6) ➞ 'No list has been selected'\n"
      ],
      "metadata": {
        "id": "MgEBEpww-3dc"
      }
    },
    {
      "cell_type": "code",
      "source": [
        "lst = [5, 6, 7, 8, 9]\n",
        "def next_in_line(lst,num):\n",
        "    if len(lst) > 0 :\n",
        "        lst.append(num)\n",
        "        return lst[1:]\n",
        "    else:\n",
        "        print(\"'No list has been selected'\")"
      ],
      "metadata": {
        "id": "2XQBVfaH-3y1"
      },
      "execution_count": null,
      "outputs": []
    },
    {
      "cell_type": "code",
      "source": [
        "next_in_line([7, 6, 3, 23, 17], 10)"
      ],
      "metadata": {
        "colab": {
          "base_uri": "https://localhost:8080/"
        },
        "id": "Rid8UFEj_PTg",
        "outputId": "22747d9b-2841-45e4-d14d-0399d8489c9d"
      },
      "execution_count": null,
      "outputs": [
        {
          "output_type": "execute_result",
          "data": {
            "text/plain": [
              "[6, 3, 23, 17, 10]"
            ]
          },
          "metadata": {},
          "execution_count": 2
        }
      ]
    },
    {
      "cell_type": "code",
      "source": [
        "next_in_line([], 6)"
      ],
      "metadata": {
        "colab": {
          "base_uri": "https://localhost:8080/"
        },
        "id": "u-5L49gM_PlB",
        "outputId": "4ff4ca7e-5308-424e-827b-63d1e8bec05e"
      },
      "execution_count": null,
      "outputs": [
        {
          "output_type": "stream",
          "name": "stdout",
          "text": [
            "'No list has been selected'\n"
          ]
        }
      ]
    },
    {
      "cell_type": "markdown",
      "source": [
        "Question2\n",
        "Create the function that takes a list of dictionaries and returns the sum of people's budgets.\n",
        "Examples\n",
        "get_budgets([\n",
        "{ 'name': 'John', 'age': 21, 'budget': 23000 },\n",
        "{ 'name': 'Steve', 'age': 32, 'budget': 40000 },\n",
        "{ 'name': 'Martin', 'age': 16, 'budget': 2700 }\n",
        "]) ➞ 65700\n",
        "get_budgets([\n",
        "{ 'name': 'John', 'age': 21, 'budget': 29000 },\n",
        "{ 'name': 'Steve', 'age': 32, 'budget': 32000 },\n",
        "{ 'name': 'Martin', 'age': 16, 'budget': 1600 }\n",
        "]) ➞ 62600"
      ],
      "metadata": {
        "id": "UC0szLqC-4Fj"
      }
    },
    {
      "cell_type": "code",
      "source": [
        "def get_budgets(listDict):\n",
        "    sum = 0\n",
        "    for dc in listDict:\n",
        "        for k,v in dc.items():\n",
        "            if k == 'budget':\n",
        "                sum = sum + v\n",
        "    return sum"
      ],
      "metadata": {
        "id": "gJjSKX18-4Xi"
      },
      "execution_count": null,
      "outputs": []
    },
    {
      "cell_type": "code",
      "source": [
        "get_budgets([\n",
        "{ 'name': 'John', 'age': 21, 'budget': 23000 },\n",
        "{ 'name': 'Steve', 'age': 32, 'budget': 40000 },\n",
        "{ 'name': 'Martin', 'age': 16, 'budget': 2700 }\n",
        "])"
      ],
      "metadata": {
        "colab": {
          "base_uri": "https://localhost:8080/"
        },
        "id": "47kToLmo_fwX",
        "outputId": "600e3cb8-6f2a-43db-b1c4-6a885d2cf6b5"
      },
      "execution_count": null,
      "outputs": [
        {
          "output_type": "execute_result",
          "data": {
            "text/plain": [
              "65700"
            ]
          },
          "metadata": {},
          "execution_count": 5
        }
      ]
    },
    {
      "cell_type": "code",
      "source": [
        "get_budgets([\n",
        "{ 'name': 'John', 'age': 21, 'budget': 29000 },\n",
        "{ 'name': 'Steve', 'age': 32, 'budget': 32000 },\n",
        "{ 'name': 'Martin', 'age': 16, 'budget': 1600 }\n",
        "])"
      ],
      "metadata": {
        "colab": {
          "base_uri": "https://localhost:8080/"
        },
        "id": "YCsl-4fv_qfg",
        "outputId": "d2aa6d8a-0fd4-4ba2-f9eb-7711bae920d5"
      },
      "execution_count": null,
      "outputs": [
        {
          "output_type": "execute_result",
          "data": {
            "text/plain": [
              "62600"
            ]
          },
          "metadata": {},
          "execution_count": 6
        }
      ]
    },
    {
      "cell_type": "markdown",
      "source": [
        "Question3\n",
        "Create a function that takes a string and returns a string with its letters in alphabetical order.\n",
        "Examples\n",
        "alphabet_soup('hello') ➞ 'ehllo'\n",
        "alphabet_soup('edabit') ➞ 'abdeit'\n",
        "alphabet_soup('hacker') ➞ 'acehkr'\n",
        "alphabet_soup('geek') ➞ 'eegk'\n",
        "alphabet_soup('javascript') ➞ 'aacijprstv'\n"
      ],
      "metadata": {
        "id": "7xWlVF7z-4ww"
      }
    },
    {
      "cell_type": "code",
      "source": [
        "def alphabet_soup(str):\n",
        "    return ''.join(sorted(str))"
      ],
      "metadata": {
        "id": "GNsuPiLt-5F8"
      },
      "execution_count": null,
      "outputs": []
    },
    {
      "cell_type": "code",
      "source": [
        "alphabet_soup('edabit')"
      ],
      "metadata": {
        "colab": {
          "base_uri": "https://localhost:8080/",
          "height": 35
        },
        "id": "PWVN2Da8_4YI",
        "outputId": "ac7bb652-6fb2-466b-f387-974dd7c7d68e"
      },
      "execution_count": null,
      "outputs": [
        {
          "output_type": "execute_result",
          "data": {
            "text/plain": [
              "'abdeit'"
            ],
            "application/vnd.google.colaboratory.intrinsic+json": {
              "type": "string"
            }
          },
          "metadata": {},
          "execution_count": 8
        }
      ]
    },
    {
      "cell_type": "code",
      "source": [
        "alphabet_soup('geek')"
      ],
      "metadata": {
        "colab": {
          "base_uri": "https://localhost:8080/",
          "height": 35
        },
        "id": "MLCWVhCW_456",
        "outputId": "532ee7e7-7c4a-4dcf-ce5e-33b809eda3c3"
      },
      "execution_count": null,
      "outputs": [
        {
          "output_type": "execute_result",
          "data": {
            "text/plain": [
              "'eegk'"
            ],
            "application/vnd.google.colaboratory.intrinsic+json": {
              "type": "string"
            }
          },
          "metadata": {},
          "execution_count": 9
        }
      ]
    },
    {
      "cell_type": "markdown",
      "source": [
        "Question4\n",
        "Suppose that you invest $10,000 for 10 years at an interest rate of 6% compounded monthly.\n",
        "What will be the value of your investment at the end of the 10 year period?\n",
        "Create a function that accepts the principal p, the term in years t, the interest rate r, and the\n",
        "number of compounding periods per year n. The function returns the value at the end of term\n",
        "rounded to the nearest cent.\n",
        "For the example above:\n",
        "compound_interest(10000, 10, 0.06, 12) ➞ 18193.97\n",
        "Note that the interest rate is given as a decimal and n=12 because with monthly compounding\n",
        "there are 12 periods per year. Compounding can also be done annually, quarterly, weekly, or\n",
        "daily.\n",
        "Examples\n",
        "compound_interest(100, 1, 0.05, 1) ➞ 105.0\n",
        "compound_interest(3500, 15, 0.1, 4) ➞ 15399.26\n",
        "compound_interest(100000, 20, 0.15, 365) ➞ 2007316.26\n",
        "\n",
        "FV = PV(1 + r/m)mt"
      ],
      "metadata": {
        "id": "5N5ItbvW-5Yq"
      }
    },
    {
      "cell_type": "code",
      "source": [
        "def compound_interest(amt, years, intrest, compPeriod):\n",
        "    future_value = amt *(1 + (intrest/compPeriod)) ** (years * compPeriod)\n",
        "    return round(future_value,2)"
      ],
      "metadata": {
        "id": "Av-TqI_9-5q7"
      },
      "execution_count": null,
      "outputs": []
    },
    {
      "cell_type": "code",
      "source": [
        "compound_interest(100, 1, 0.05, 1)"
      ],
      "metadata": {
        "colab": {
          "base_uri": "https://localhost:8080/"
        },
        "id": "FtfG5V3mAOlv",
        "outputId": "c6eaf472-ad59-4883-c3d2-8e8c845b2f01"
      },
      "execution_count": null,
      "outputs": [
        {
          "output_type": "execute_result",
          "data": {
            "text/plain": [
              "105.0"
            ]
          },
          "metadata": {},
          "execution_count": 11
        }
      ]
    },
    {
      "cell_type": "code",
      "source": [
        "compound_interest(100000, 20, 0.15, 365)"
      ],
      "metadata": {
        "colab": {
          "base_uri": "https://localhost:8080/"
        },
        "id": "bXL4Z-pYAPBS",
        "outputId": "483b37e4-a0ee-491a-e8cf-53609c711061"
      },
      "execution_count": null,
      "outputs": [
        {
          "output_type": "execute_result",
          "data": {
            "text/plain": [
              "2007316.26"
            ]
          },
          "metadata": {},
          "execution_count": 12
        }
      ]
    },
    {
      "cell_type": "markdown",
      "source": [
        "Question5\n",
        "Write a function that takes a list of elements and returns only the integers.\n",
        "Examples\n",
        "return_only_integer([9, 2, 'space', 'car', 'lion', 16]) ➞ [9, 2, 16]\n",
        "return_only_integer(['hello', 81, 'basketball', 123, 'fox']) ➞ [81, 123]\n",
        "return_only_integer([10, '121', 56, 20, 'car', 3, 'lion']) ➞ [10, 56, 20, 3]\n",
        "return_only_integer(['String', True, 3.3, 1]) ➞ [1]"
      ],
      "metadata": {
        "id": "ctGfgbsIAXl-"
      }
    },
    {
      "cell_type": "code",
      "source": [
        "def return_only_integer(lst):\n",
        "    intLst = []\n",
        "    for i in lst:\n",
        "        if type(i) == int:\n",
        "            intLst.append(i)\n",
        "    return intLst"
      ],
      "metadata": {
        "id": "LDBrPQZTAX9_"
      },
      "execution_count": null,
      "outputs": []
    },
    {
      "cell_type": "code",
      "source": [
        "return_only_integer(['hello', 81, 'basketball', 123, 'fox'])"
      ],
      "metadata": {
        "colab": {
          "base_uri": "https://localhost:8080/"
        },
        "id": "-AQxg5XkAYja",
        "outputId": "664482fd-7755-4fca-e9d0-f93c001288aa"
      },
      "execution_count": null,
      "outputs": [
        {
          "output_type": "execute_result",
          "data": {
            "text/plain": [
              "[81, 123]"
            ]
          },
          "metadata": {},
          "execution_count": 14
        }
      ]
    },
    {
      "cell_type": "code",
      "source": [
        "return_only_integer(['String', True, 3.3, 1])"
      ],
      "metadata": {
        "colab": {
          "base_uri": "https://localhost:8080/"
        },
        "id": "aCfJmRI4ApWO",
        "outputId": "eea62e14-f318-4bd6-aeea-645691d9c35b"
      },
      "execution_count": null,
      "outputs": [
        {
          "output_type": "execute_result",
          "data": {
            "text/plain": [
              "[1]"
            ]
          },
          "metadata": {},
          "execution_count": 15
        }
      ]
    }
  ]
}